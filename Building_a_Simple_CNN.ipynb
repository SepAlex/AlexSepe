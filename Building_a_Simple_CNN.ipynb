{
  "nbformat": 4,
  "nbformat_minor": 0,
  "metadata": {
    "colab": {
      "name": "03-02b.ipynb",
      "provenance": [],
      "collapsed_sections": [],
      "include_colab_link": true
    },
    "kernelspec": {
      "name": "python3",
      "display_name": "Python 3"
    },
    "language_info": {
      "name": "python"
    }
  },
  "cells": [
    {
      "cell_type": "markdown",
      "metadata": {
        "id": "view-in-github",
        "colab_type": "text"
      },
      "source": [
        "<a href=\"https://colab.research.google.com/github/SepAlex/AlexSepe-Project-/blob/main/Building_a_Simple_CNN.ipynb\" target=\"_parent\"><img src=\"https://colab.research.google.com/assets/colab-badge.svg\" alt=\"Open In Colab\"/></a>"
      ]
    },
    {
      "cell_type": "markdown",
      "source": [
        "**Building a Convoutional Nueral Network using Pytorch**\n"
      ],
      "metadata": {
        "id": "tHzfqwSWH-1P"
      }
    },
    {
      "cell_type": "code",
      "execution_count": 1,
      "metadata": {
        "id": "cbAq1tpSrnar"
      },
      "outputs": [],
      "source": [
        "# Required Libraries \n",
        "import torch\n",
        "from torchtext.legacy import data, datasets\n",
        "import torch.nn as nn\n",
        "import torch.nn.functional as F\n",
        "import random\n"
      ]
    },
    {
      "cell_type": "code",
      "source": [
        "## Setting Seed and which Colab RAM size to use from the CUDA package\n",
        "\n",
        "seed = 1234\n",
        "torch.manual_seed(seed)\n",
        "\n",
        "colab_ram = torch.device('GPU' if torch.cuda.is_available() else 'CPU')\n",
        "print(colab_ram )"
      ],
      "metadata": {
        "id": "MYIoDN_mEMeC"
      },
      "execution_count": null,
      "outputs": []
    },
    {
      "cell_type": "code",
      "source": [
        "## Defining the Convolutional Network Model Params or Layers  \n",
        "class CNN(nn.Module):\n",
        "  def __init__(self, vocabulary_size, embedding_size, \n",
        "               kernels_number, kernel_sizes, output_size, dropout_rate):\n",
        "    super().__init__()\n",
        "    self.embedding = nn.Embedding(vocabulary_size, embedding_size)\n",
        "    self.convolution_layers = nn.ModuleList([nn.Conv2d(in_channels=1, \n",
        "                                                       out_channels= kernels_number,kernel_size= (k, embedding_size))\n",
        "                                                       for k in kernel_sizes])\n",
        "    self.dropout = nn.Dropout(dropout_rate)\n",
        "    self.fully_connected = nn.Linear(len(kernel_sizes) * kernels_number, output_size)\n",
        "\n",
        "## using the forawrd function to build the model architure using defined layers and outputing the prediction of the text\n",
        "  def forward(self, text):\n",
        "    text = text.permute(1,0)\n",
        "    input_embeddings = self.embedding(text)\n",
        "    input_embeddings = input_embeddings(1)\n",
        "    conved = [F.relu(convolution_layer(input_embeddings)).squeeze(3)\n",
        "              for convolution_layer in self.convolution_layers]\n",
        "    pooled = [F.max_pool1d(conv, conv.shape[2]).squeeze(2) for conv in conved]\n",
        "    concat = self.dropout(torch.cat(pooled, dim = 1))\n",
        "    final_output = self.fully_connected(concat)\n",
        "\n",
        "    return final_output"
      ],
      "metadata": {
        "id": "mDoCrHvPrxKk"
      },
      "execution_count": 2,
      "outputs": []
    },
    {
      "cell_type": "code",
      "source": [
        "# Defining Newtork Params for Modeling building\n",
        "\n",
        "vocabulary_size = 2679\n",
        "embedding_size = 100\n",
        "kernels_number = 100\n",
        "kernel_sizes = [2, 3, 4]\n",
        "output_size = 6\n",
        "dropout_rate = 0.3"
      ],
      "metadata": {
        "id": "-8b0FH6Yr1HA"
      },
      "execution_count": 3,
      "outputs": []
    },
    {
      "cell_type": "code",
      "source": [
        "cnn_model = CNN(vocabulary_size, embedding_size, kernels_number, kernel_sizes, output_size, dropout_rate)"
      ],
      "metadata": {
        "id": "PdpHub1rr3Pp"
      },
      "execution_count": 4,
      "outputs": []
    },
    {
      "cell_type": "code",
      "source": [
        "print(cnn_model)"
      ],
      "metadata": {
        "id": "1NfUcAWxsAgw",
        "colab": {
          "base_uri": "https://localhost:8080/"
        },
        "outputId": "ff4fc0dd-9ab6-4da5-c8ec-d4d6e7b84502"
      },
      "execution_count": 5,
      "outputs": [
        {
          "output_type": "stream",
          "name": "stdout",
          "text": [
            "CNN(\n",
            "  (embedding): Embedding(2679, 100)\n",
            "  (convolution_layers): ModuleList(\n",
            "    (0): Conv2d(1, 100, kernel_size=(2, 100), stride=(1, 1))\n",
            "    (1): Conv2d(1, 100, kernel_size=(3, 100), stride=(1, 1))\n",
            "    (2): Conv2d(1, 100, kernel_size=(4, 100), stride=(1, 1))\n",
            "  )\n",
            "  (dropout): Dropout(p=0.3, inplace=False)\n",
            "  (fully_connected): Linear(in_features=300, out_features=6, bias=True)\n",
            ")\n"
          ]
        }
      ]
    },
    {
      "cell_type": "code",
      "source": [
        "device = torch.device('cuda' if torch.cuda.is_available() else 'cpu')\n",
        "model.to(device)"
      ],
      "metadata": {
        "id": "WDI9_CPfsGiK",
        "colab": {
          "base_uri": "https://localhost:8080/"
        },
        "outputId": "17ef6d0b-dd1d-4241-d4ae-60fe3d18787b"
      },
      "execution_count": 6,
      "outputs": [
        {
          "output_type": "execute_result",
          "data": {
            "text/plain": [
              "CNN(\n",
              "  (embedding): Embedding(2679, 100)\n",
              "  (convolution_layers): ModuleList(\n",
              "    (0): Conv2d(1, 100, kernel_size=(2, 100), stride=(1, 1))\n",
              "    (1): Conv2d(1, 100, kernel_size=(3, 100), stride=(1, 1))\n",
              "    (2): Conv2d(1, 100, kernel_size=(4, 100), stride=(1, 1))\n",
              "  )\n",
              "  (dropout): Dropout(p=0.3, inplace=False)\n",
              "  (fully_connected): Linear(in_features=300, out_features=6, bias=True)\n",
              ")"
            ]
          },
          "metadata": {},
          "execution_count": 6
        }
      ]
    }
  ]
}