{
 "cells": [
  {
   "cell_type": "markdown",
   "id": "706d93e0",
   "metadata": {},
   "source": [
    "# Case Study: 4 -  Bankruptcy\n",
    "\n",
    "#### Alexander Sepenu\n",
    "#### Nnenna Okpara\n",
    "#### Taifur Chowdhury\n",
    "#### Juan Edgar Nunez - Gonzalez\n",
    "\n"
   ]
  },
  {
   "cell_type": "markdown",
   "id": "803476d8",
   "metadata": {},
   "source": [
    "# Business Understanding"
   ]
  },
  {
   "cell_type": "markdown",
   "id": "6e9dcf32",
   "metadata": {},
   "source": [
    "**Objective:**\n",
    "\n",
    "For this case study, we build classification models that predict if a company will enter bankruptcy. Our objective is to use Random Forest and XGBoost to predict bankruptcy accurately."
   ]
  },
  {
   "cell_type": "markdown",
   "id": "cfdbe808",
   "metadata": {},
   "source": [
    "# Data Evaluation"
   ]
  },
  {
   "cell_type": "markdown",
   "id": "b193154f",
   "metadata": {},
   "source": [
    "The finance department provided five separate “.arff” files for five years. Then, the team combined the data into a single data frame. It consists of 64 attributes and 43,405 rows from over 10,000 different companies for five years. The target feature is heavily imbalanced because, from the class variable, only about 5% of the company filed for bankruptcy. \n",
    "\n",
    "**Missing data:**\n",
    "\n",
    "The data has missing values. Our input attributes are formatted as object datatypes since values are all metrics. Based on visual inspection, most of the features in the dataset have missing values. Features like ` net profit / inventory`, ` sales / inventory`, ` profit on operating activities / financial expenses`, ` sales (n) / sales (n-1)`, and ` (current assets - inventories) / long-term liabilities` are the ones with most missing values. One common aspect of all these features is that data are highly skewed. For that reason, the missing values for each feature were imputed using the median. \n",
    "\n",
    "**Features Importance:** \n",
    "\n",
    "We have built two sets of features importance using Random Forest and XGBoost. For Random Forest, we have two lists of feature importance – one with Gini criterion and another one with Entropy criterion. Most of the metrics all have to do with profitability.\n",
    "\n",
    "**Below are the top 20 features based on Random Forest - Gini criterion using .20 threshold**\n",
    "\n",
    "Attr 4 - current assets / short-term liabilities\n",
    "Attr 5 - [(cash + short-term securities + receivables - short-term liabilities) / (operating expenses - depreciation)] * 365\n",
    "Attr 8 - book value of equity / total liabilities\n",
    "Attr 15 - (total liabilities * 365) / (gross profit + depreciation)\n",
    "Attr 23 - net profit / sales\n",
    "Attr 25 - (equity - share capital) / total assets\n",
    "Attr 26 - (net profit + depreciation) / total liabilities\n",
    "Attr 28 - working capital / fixed assets\n",
    "Attr 33 - operating expenses / short-term liabilities\n",
    "Attr 34 - operating expenses / total liabilities\n",
    "Atrr 38 - constant capital / total assets\n",
    "Attr 39 - profit on sales / sales\n",
    "Attr 40 - (current assets - inventory - receivables) / short-term liabilities\n",
    "Attr 41 - total liabilities / ((profit on operating activities + depreciation) * (12/365))\n",
    "Attr 43 - rotation receivables + inventory turnover in days\n",
    "Attr 45 - net profit / inventory\n",
    "Attr 54 - constant capital / fixed assets\n",
    "Attr 55 - working capital\n",
    "Attr 57 - (current assets - inventory - short-term liabilities) / (sales - gross profit - depreciation)\n",
    "Attr 60 - sales / inventory\n",
    "\n",
    "**Below are the top 20 features based on Random Forest - Entropy criterion using .20 threshold**\n",
    "\n",
    "Attr 4 - current assets / short-term liabilities\n",
    "Attr 5 - [(cash + short-term securities + receivables - short-term liabilities) / (operating expenses - depreciation)] * 365\n",
    "Attr 8 - book value of equity / total liabilities\n",
    "Attr 12 - gross profit / short-term liabilities\n",
    "Attr 15 - (total liabilities * 365) / (gross profit + depreciation)\n",
    "Attr 21 - sales (n) / sales (n-1)\n",
    "Attr 23 - net profit / sales\n",
    "Attr 24 - gross profit (in 3 years) / total assets\n",
    "Attr 25 - (equity - share capital) / total assets\n",
    "Attr 26 - (net profit + depreciation) / total liabilities\n",
    "Attr 28 - working capital / fixed assets\n",
    "Attr 33 - operating expenses / short-term liabilities\n",
    "Attr 34 - operating expenses / total liabilities\n",
    "Attr 37 - (current assets - inventories) / long-term liabilities\n",
    "Attr 38 - constant capital / total assets\n",
    "Attr 39 - profit on sales / sales\n",
    "Attr 40 - (current assets - inventory - receivables) / short-term liabilities\n",
    "Attr 41 - total liabilities / ((profit on operating activities + depreciation) * (12/365))\n",
    "Attr 55 - working capital\n",
    "Attr 57 - (current assets - inventory - short-term liabilities) / (sales - gross profit - depreciation)\n",
    "\n",
    "**Below are the top features for XGBoost using .20 threshold**\n",
    "\n",
    "Attr 5 - [(cash + short-term securities + receivables - short-term liabilities) / (operating expenses - depreciation)] * 365\n",
    "Attr 6 - retained earnings / total assets\n",
    "Attr 13 - (gross profit + depreciation) / sales\n",
    "Attr 26 - (net profit + depreciation) / total liabilities -> Primary driver\n",
    "Attr 27 - profit on operating activities / financial expenses\n",
    "Attr 34 - operating expenses / total liabilities\n",
    "Attr 35 - profit on sales / total assets\n",
    "Attr 39 - profit on sales / sales\n",
    "Attr 42 - profit on operating activities / sales\n",
    "Attr 44 - (receivables * 365) / sales\n",
    "Attr 56 - (sales - cost of products sold) / sales\n",
    "Attr 58 - total costs /total sales\n",
    "\n",
    "\n",
    "\n",
    "**Assumptions:**\n",
    "\n",
    "Given the imbalanced output feature, we believe most companies will not be bankrupt. However, if some companies go bankrupt, we know from the feature importance that companies with these attributes are likely to file for bankruptcy."
   ]
  },
  {
   "cell_type": "code",
   "execution_count": 41,
   "id": "4af14e07",
   "metadata": {},
   "outputs": [],
   "source": [
    "# Import Libraries\n",
    "\n",
    "import numpy as np\n",
    "import pandas as pd\n",
    "import pandas_profiling\n",
    "from pandas_profiling import ProfileReport\n",
    "import matplotlib.pyplot as plt\n",
    "import seaborn as sns\n",
    "import sweetviz as sv\n",
    "import time\n",
    "from sklearn.ensemble import RandomForestClassifier as rf\n",
    "from sklearn.ensemble import RandomForestClassifier as rf\n",
    "import warnings\n",
    "warnings.filterwarnings(\"ignore\")\n",
    "\n"
   ]
  },
  {
   "cell_type": "markdown",
   "id": "52cfbe9a",
   "metadata": {},
   "source": [
    "https://scikit-learn.org/stable/modules/generated/sklearn.linear_model.LinearRegression.html"
   ]
  },
  {
   "cell_type": "code",
   "execution_count": 2,
   "id": "087a94c9",
   "metadata": {},
   "outputs": [],
   "source": [
    "# Define dataframe\n",
    "\n",
    "df = pd.read_csv('complete_dataset.csv')"
   ]
  },
  {
   "cell_type": "code",
   "execution_count": 3,
   "id": "eb40d3f7",
   "metadata": {},
   "outputs": [
    {
     "data": {
      "text/plain": [
       "(43405, 65)"
      ]
     },
     "execution_count": 3,
     "metadata": {},
     "output_type": "execute_result"
    }
   ],
   "source": [
    "#Dataframe Dimension should equal (88-81) 169 columns and 21,263 rows\n",
    "df.shape"
   ]
  },
  {
   "cell_type": "code",
   "execution_count": 4,
   "id": "d5c99258",
   "metadata": {},
   "outputs": [
    {
     "name": "stdout",
     "output_type": "stream",
     "text": [
      "<class 'pandas.core.frame.DataFrame'>\n",
      "RangeIndex: 43405 entries, 0 to 43404\n",
      "Data columns (total 65 columns):\n",
      " #   Column  Non-Null Count  Dtype  \n",
      "---  ------  --------------  -----  \n",
      " 0   Attr1   43397 non-null  float64\n",
      " 1   Attr2   43397 non-null  float64\n",
      " 2   Attr3   43397 non-null  float64\n",
      " 3   Attr4   43271 non-null  float64\n",
      " 4   Attr5   43316 non-null  float64\n",
      " 5   Attr6   43397 non-null  float64\n",
      " 6   Attr7   43397 non-null  float64\n",
      " 7   Attr8   43311 non-null  float64\n",
      " 8   Attr9   43396 non-null  float64\n",
      " 9   Attr10  43397 non-null  float64\n",
      " 10  Attr11  43361 non-null  float64\n",
      " 11  Attr12  43271 non-null  float64\n",
      " 12  Attr13  43278 non-null  float64\n",
      " 13  Attr14  43397 non-null  float64\n",
      " 14  Attr15  43369 non-null  float64\n",
      " 15  Attr16  43310 non-null  float64\n",
      " 16  Attr17  43311 non-null  float64\n",
      " 17  Attr18  43397 non-null  float64\n",
      " 18  Attr19  43277 non-null  float64\n",
      " 19  Attr20  43278 non-null  float64\n",
      " 20  Attr21  37551 non-null  float64\n",
      " 21  Attr22  43397 non-null  float64\n",
      " 22  Attr23  43278 non-null  float64\n",
      " 23  Attr24  42483 non-null  float64\n",
      " 24  Attr25  43397 non-null  float64\n",
      " 25  Attr26  43310 non-null  float64\n",
      " 26  Attr27  40641 non-null  float64\n",
      " 27  Attr28  42593 non-null  float64\n",
      " 28  Attr29  43397 non-null  float64\n",
      " 29  Attr30  43278 non-null  float64\n",
      " 30  Attr31  43278 non-null  float64\n",
      " 31  Attr32  43037 non-null  float64\n",
      " 32  Attr33  43271 non-null  float64\n",
      " 33  Attr34  43311 non-null  float64\n",
      " 34  Attr35  43397 non-null  float64\n",
      " 35  Attr36  43397 non-null  float64\n",
      " 36  Attr37  24421 non-null  float64\n",
      " 37  Attr38  43397 non-null  float64\n",
      " 38  Attr39  43278 non-null  float64\n",
      " 39  Attr40  43271 non-null  float64\n",
      " 40  Attr41  42651 non-null  float64\n",
      " 41  Attr42  43278 non-null  float64\n",
      " 42  Attr43  43278 non-null  float64\n",
      " 43  Attr44  43278 non-null  float64\n",
      " 44  Attr45  41258 non-null  float64\n",
      " 45  Attr46  43270 non-null  float64\n",
      " 46  Attr47  43108 non-null  float64\n",
      " 47  Attr48  43396 non-null  float64\n",
      " 48  Attr49  43278 non-null  float64\n",
      " 49  Attr50  43311 non-null  float64\n",
      " 50  Attr51  43397 non-null  float64\n",
      " 51  Attr52  43104 non-null  float64\n",
      " 52  Attr53  42593 non-null  float64\n",
      " 53  Attr54  42593 non-null  float64\n",
      " 54  Attr55  43404 non-null  float64\n",
      " 55  Attr56  43278 non-null  float64\n",
      " 56  Attr57  43398 non-null  float64\n",
      " 57  Attr58  43321 non-null  float64\n",
      " 58  Attr59  43398 non-null  float64\n",
      " 59  Attr60  41253 non-null  float64\n",
      " 60  Attr61  43303 non-null  float64\n",
      " 61  Attr62  43278 non-null  float64\n",
      " 62  Attr63  43271 non-null  float64\n",
      " 63  Attr64  42593 non-null  float64\n",
      " 64  class   43405 non-null  int64  \n",
      "dtypes: float64(64), int64(1)\n",
      "memory usage: 21.5 MB\n"
     ]
    }
   ],
   "source": [
    "# Dataframe information\n",
    "df.info()"
   ]
  },
  {
   "cell_type": "code",
   "execution_count": 5,
   "id": "2bb4b5d6",
   "metadata": {},
   "outputs": [
    {
     "name": "stdout",
     "output_type": "stream",
     "text": [
      "Attr1       8\n",
      "Attr2       8\n",
      "Attr3       8\n",
      "Attr4     134\n",
      "Attr5      89\n",
      "         ... \n",
      "Attr61    102\n",
      "Attr62    127\n",
      "Attr63    134\n",
      "Attr64    812\n",
      "class       0\n",
      "Length: 65, dtype: int64\n"
     ]
    }
   ],
   "source": [
    "#Checking for null values in all the features\n",
    "\n",
    "print(df.isnull().sum())"
   ]
  },
  {
   "cell_type": "code",
   "execution_count": 6,
   "id": "6ab77543",
   "metadata": {},
   "outputs": [],
   "source": [
    "# Replace null values with median values\n",
    "\n",
    "column_median = df.median()\n",
    "df = df.fillna(column_median)"
   ]
  },
  {
   "cell_type": "code",
   "execution_count": 7,
   "id": "30c80dc0",
   "metadata": {},
   "outputs": [
    {
     "name": "stdout",
     "output_type": "stream",
     "text": [
      "Attr1     0\n",
      "Attr2     0\n",
      "Attr3     0\n",
      "Attr4     0\n",
      "Attr5     0\n",
      "         ..\n",
      "Attr61    0\n",
      "Attr62    0\n",
      "Attr63    0\n",
      "Attr64    0\n",
      "class     0\n",
      "Length: 65, dtype: int64\n"
     ]
    }
   ],
   "source": [
    "# Making sure there is no missing value\n",
    "print(df.isnull().sum())"
   ]
  },
  {
   "cell_type": "markdown",
   "id": "19dfcae5",
   "metadata": {},
   "source": [
    "### EDA and Visualization"
   ]
  },
  {
   "cell_type": "code",
   "execution_count": 13,
   "id": "f3e0bde2",
   "metadata": {},
   "outputs": [
    {
     "data": {
      "text/plain": [
       "0    0.951826\n",
       "1    0.048174\n",
       "Name: class, dtype: float64"
      ]
     },
     "execution_count": 13,
     "metadata": {},
     "output_type": "execute_result"
    },
    {
     "data": {
      "image/png": "[encoded data removed]",
      "text/plain": [
       "<Figure size 864x576 with 1 Axes>"
      ]
     },
     "metadata": {},
     "output_type": "display_data"
    }
   ],
   "source": [
    "import seaborn as sns\n",
    "%matplotlib inline\n",
    "plt.style.use('fivethirtyeight')\n",
    "plt.figure(figsize=(12,8))\n",
    "plt.style.use('fivethirtyeight')\n",
    "sns.countplot(y)\n",
    "plt.xlabel('Bankruptcy Outcome')\n",
    "plt.ylabel('')\n",
    "plt.yticks([])\n",
    "y.value_counts(normalize=True)"
   ]
  },
  {
   "cell_type": "code",
   "execution_count": 125,
   "id": "102f2d73",
   "metadata": {},
   "outputs": [],
   "source": [
    "#Create Profile For EDA \n",
    "\n",
    "profile = ProfileReport(df, title=\"Profiling Report\", explorative=True)"
   ]
  },
  {
   "cell_type": "code",
   "execution_count": null,
   "id": "9afbf260",
   "metadata": {},
   "outputs": [
    {
     "data": {
      "application/vnd.jupyter.widget-view+json": {
       "model_id": "646b7b556ebe492391452d81ff8ef10c",
       "version_major": 2,
       "version_minor": 0
      },
      "text/plain": [
       "Summarize dataset:   0%|          | 0/5 [00:00<?, ?it/s]"
      ]
     },
     "metadata": {},
     "output_type": "display_data"
    },
    {
     "data": {
      "application/vnd.jupyter.widget-view+json": {
       "model_id": "3a065b9f2ecb4650baca5e507c1aca8c",
       "version_major": 2,
       "version_minor": 0
      },
      "text/plain": [
       "Generate report structure:   0%|          | 0/1 [00:00<?, ?it/s]"
      ]
     },
     "metadata": {},
     "output_type": "display_data"
    },
    {
     "data": {
      "application/vnd.jupyter.widget-view+json": {
       "model_id": "741079ecb9524d98b417abbe16b9ed9a",
       "version_major": 2,
       "version_minor": 0
      },
      "text/plain": [
       "Render HTML:   0%|          | 0/1 [00:00<?, ?it/s]"
      ]
     },
     "metadata": {},
     "output_type": "display_data"
    }
   ],
   "source": [
    "# this line of code does an in depth EDA but take about 4 hours to complete depend on computing power\n",
    "profile"
   ]
  },
  {
   "cell_type": "code",
   "execution_count": 129,
   "id": "2d262693",
   "metadata": {},
   "outputs": [
    {
     "data": {
      "application/vnd.jupyter.widget-view+json": {
       "model_id": "5caf8b4cfe9c4762a55fed2e6181a6b3",
       "version_major": 2,
       "version_minor": 0
      },
      "text/plain": [
       "Export report to file:   0%|          | 0/1 [00:00<?, ?it/s]"
      ]
     },
     "metadata": {},
     "output_type": "display_data"
    }
   ],
   "source": [
    "# this line of code saves the results into your working directory which you can open in your brower to learn more about the data\n",
    "profile.to_file('Bankruptcy.html')\n"
   ]
  },
  {
   "cell_type": "code",
   "execution_count": 166,
   "id": "a0a40e9c",
   "metadata": {},
   "outputs": [
    {
     "data": {
      "application/vnd.jupyter.widget-view+json": {
       "model_id": "911389babf224ff5b2c9491654b2bd5b",
       "version_major": 2,
       "version_minor": 0
      },
      "text/plain": [
       "Summarize dataset:   0%|          | 0/5 [00:00<?, ?it/s]"
      ]
     },
     "metadata": {},
     "output_type": "display_data"
    },
    {
     "data": {
      "application/vnd.jupyter.widget-view+json": {
       "model_id": "55abf1f343eb400889f1818964746b2e",
       "version_major": 2,
       "version_minor": 0
      },
      "text/plain": [
       "Generate report structure:   0%|          | 0/1 [00:00<?, ?it/s]"
      ]
     },
     "metadata": {},
     "output_type": "display_data"
    },
    {
     "data": {
      "application/vnd.jupyter.widget-view+json": {
       "model_id": "672762cfdd0c417db3a170489eae2834",
       "version_major": 2,
       "version_minor": 0
      },
      "text/plain": [
       "Render widgets:   0%|          | 0/1 [00:00<?, ?it/s]"
      ]
     },
     "metadata": {},
     "output_type": "display_data"
    },
    {
     "ename": "TraitError",
     "evalue": "n_rows and n_columns must be positive integer",
     "output_type": "error",
     "traceback": [
      "\u001b[0;31m---------------------------------------------------------------------------\u001b[0m",
      "\u001b[0;31mTraitError\u001b[0m                                Traceback (most recent call last)",
      "\u001b[0;32m<ipython-input-166-e39eed4156cc>\u001b[0m in \u001b[0;36m<module>\u001b[0;34m\u001b[0m\n\u001b[1;32m      3\u001b[0m \u001b[0mprofile\u001b[0m \u001b[0;34m=\u001b[0m \u001b[0mProfileReport\u001b[0m\u001b[0;34m(\u001b[0m\u001b[0mdf\u001b[0m\u001b[0;34m,\u001b[0m \u001b[0mtitle\u001b[0m\u001b[0;34m=\u001b[0m\u001b[0;34m'Pandas Profiling Report'\u001b[0m\u001b[0;34m,\u001b[0m \u001b[0mexplorative\u001b[0m\u001b[0;34m=\u001b[0m\u001b[0;32mTrue\u001b[0m\u001b[0;34m)\u001b[0m\u001b[0;34m\u001b[0m\u001b[0;34m\u001b[0m\u001b[0m\n\u001b[1;32m      4\u001b[0m \u001b[0;34m\u001b[0m\u001b[0m\n\u001b[0;32m----> 5\u001b[0;31m \u001b[0mprofile\u001b[0m\u001b[0;34m.\u001b[0m\u001b[0mto_widgets\u001b[0m\u001b[0;34m(\u001b[0m\u001b[0;34m)\u001b[0m\u001b[0;34m\u001b[0m\u001b[0;34m\u001b[0m\u001b[0m\n\u001b[0m",
      "\u001b[0;32m/opt/anaconda3/lib/python3.8/site-packages/pandas_profiling/profile_report.py\u001b[0m in \u001b[0;36mto_widgets\u001b[0;34m(self)\u001b[0m\n\u001b[1;32m    412\u001b[0m         \u001b[0;32mfrom\u001b[0m \u001b[0mIPython\u001b[0m\u001b[0;34m.\u001b[0m\u001b[0mcore\u001b[0m\u001b[0;34m.\u001b[0m\u001b[0mdisplay\u001b[0m \u001b[0;32mimport\u001b[0m \u001b[0mdisplay\u001b[0m\u001b[0;34m\u001b[0m\u001b[0;34m\u001b[0m\u001b[0m\n\u001b[1;32m    413\u001b[0m \u001b[0;34m\u001b[0m\u001b[0m\n\u001b[0;32m--> 414\u001b[0;31m         \u001b[0mdisplay\u001b[0m\u001b[0;34m(\u001b[0m\u001b[0mself\u001b[0m\u001b[0;34m.\u001b[0m\u001b[0mwidgets\u001b[0m\u001b[0;34m)\u001b[0m\u001b[0;34m\u001b[0m\u001b[0;34m\u001b[0m\u001b[0m\n\u001b[0m\u001b[1;32m    415\u001b[0m \u001b[0;34m\u001b[0m\u001b[0m\n\u001b[1;32m    416\u001b[0m     \u001b[0;32mdef\u001b[0m \u001b[0m_repr_html_\u001b[0m\u001b[0;34m(\u001b[0m\u001b[0mself\u001b[0m\u001b[0;34m)\u001b[0m \u001b[0;34m->\u001b[0m \u001b[0;32mNone\u001b[0m\u001b[0;34m:\u001b[0m\u001b[0;34m\u001b[0m\u001b[0;34m\u001b[0m\u001b[0m\n",
      "\u001b[0;32m/opt/anaconda3/lib/python3.8/site-packages/pandas_profiling/profile_report.py\u001b[0m in \u001b[0;36mwidgets\u001b[0;34m(self)\u001b[0m\n\u001b[1;32m    195\u001b[0m     \u001b[0;32mdef\u001b[0m \u001b[0mwidgets\u001b[0m\u001b[0;34m(\u001b[0m\u001b[0mself\u001b[0m\u001b[0;34m)\u001b[0m \u001b[0;34m->\u001b[0m \u001b[0mRenderable\u001b[0m\u001b[0;34m:\u001b[0m\u001b[0;34m\u001b[0m\u001b[0;34m\u001b[0m\u001b[0m\n\u001b[1;32m    196\u001b[0m         \u001b[0;32mif\u001b[0m \u001b[0mself\u001b[0m\u001b[0;34m.\u001b[0m\u001b[0m_widgets\u001b[0m \u001b[0;32mis\u001b[0m \u001b[0;32mNone\u001b[0m\u001b[0;34m:\u001b[0m\u001b[0;34m\u001b[0m\u001b[0;34m\u001b[0m\u001b[0m\n\u001b[0;32m--> 197\u001b[0;31m             \u001b[0mself\u001b[0m\u001b[0;34m.\u001b[0m\u001b[0m_widgets\u001b[0m \u001b[0;34m=\u001b[0m \u001b[0mself\u001b[0m\u001b[0;34m.\u001b[0m\u001b[0m_render_widgets\u001b[0m\u001b[0;34m(\u001b[0m\u001b[0;34m)\u001b[0m\u001b[0;34m\u001b[0m\u001b[0;34m\u001b[0m\u001b[0m\n\u001b[0m\u001b[1;32m    198\u001b[0m         \u001b[0;32mreturn\u001b[0m \u001b[0mself\u001b[0m\u001b[0;34m.\u001b[0m\u001b[0m_widgets\u001b[0m\u001b[0;34m\u001b[0m\u001b[0;34m\u001b[0m\u001b[0m\n\u001b[1;32m    199\u001b[0m \u001b[0;34m\u001b[0m\u001b[0m\n",
      "\u001b[0;32m/opt/anaconda3/lib/python3.8/site-packages/pandas_profiling/profile_report.py\u001b[0m in \u001b[0;36m_render_widgets\u001b[0;34m(self)\u001b[0m\n\u001b[1;32m    321\u001b[0m             \u001b[0mleave\u001b[0m\u001b[0;34m=\u001b[0m\u001b[0;32mFalse\u001b[0m\u001b[0;34m,\u001b[0m\u001b[0;34m\u001b[0m\u001b[0;34m\u001b[0m\u001b[0m\n\u001b[1;32m    322\u001b[0m         ) as pbar:\n\u001b[0;32m--> 323\u001b[0;31m             \u001b[0mwidgets\u001b[0m \u001b[0;34m=\u001b[0m \u001b[0mWidgetReport\u001b[0m\u001b[0;34m(\u001b[0m\u001b[0mcopy\u001b[0m\u001b[0;34m.\u001b[0m\u001b[0mdeepcopy\u001b[0m\u001b[0;34m(\u001b[0m\u001b[0mreport\u001b[0m\u001b[0;34m)\u001b[0m\u001b[0;34m)\u001b[0m\u001b[0;34m.\u001b[0m\u001b[0mrender\u001b[0m\u001b[0;34m(\u001b[0m\u001b[0;34m)\u001b[0m\u001b[0;34m\u001b[0m\u001b[0;34m\u001b[0m\u001b[0m\n\u001b[0m\u001b[1;32m    324\u001b[0m             \u001b[0mpbar\u001b[0m\u001b[0;34m.\u001b[0m\u001b[0mupdate\u001b[0m\u001b[0;34m(\u001b[0m\u001b[0;34m)\u001b[0m\u001b[0;34m\u001b[0m\u001b[0;34m\u001b[0m\u001b[0m\n\u001b[1;32m    325\u001b[0m         \u001b[0;32mreturn\u001b[0m \u001b[0mwidgets\u001b[0m\u001b[0;34m\u001b[0m\u001b[0;34m\u001b[0m\u001b[0m\n",
      "\u001b[0;32m/opt/anaconda3/lib/python3.8/site-packages/pandas_profiling/report/presentation/flavours/widget/root.py\u001b[0m in \u001b[0;36mrender\u001b[0;34m(self, **kwargs)\u001b[0m\n\u001b[1;32m      7\u001b[0m     \u001b[0;32mdef\u001b[0m \u001b[0mrender\u001b[0m\u001b[0;34m(\u001b[0m\u001b[0mself\u001b[0m\u001b[0;34m,\u001b[0m \u001b[0;34m**\u001b[0m\u001b[0mkwargs\u001b[0m\u001b[0;34m)\u001b[0m \u001b[0;34m->\u001b[0m \u001b[0mwidgets\u001b[0m\u001b[0;34m.\u001b[0m\u001b[0mVBox\u001b[0m\u001b[0;34m:\u001b[0m\u001b[0;34m\u001b[0m\u001b[0;34m\u001b[0m\u001b[0m\n\u001b[1;32m      8\u001b[0m         return widgets.VBox(\n\u001b[0;32m----> 9\u001b[0;31m             \u001b[0;34m[\u001b[0m\u001b[0mself\u001b[0m\u001b[0;34m.\u001b[0m\u001b[0mcontent\u001b[0m\u001b[0;34m[\u001b[0m\u001b[0;34m\"body\"\u001b[0m\u001b[0;34m]\u001b[0m\u001b[0;34m.\u001b[0m\u001b[0mrender\u001b[0m\u001b[0;34m(\u001b[0m\u001b[0;34m)\u001b[0m\u001b[0;34m,\u001b[0m \u001b[0mself\u001b[0m\u001b[0;34m.\u001b[0m\u001b[0mcontent\u001b[0m\u001b[0;34m[\u001b[0m\u001b[0;34m\"footer\"\u001b[0m\u001b[0;34m]\u001b[0m\u001b[0;34m.\u001b[0m\u001b[0mrender\u001b[0m\u001b[0;34m(\u001b[0m\u001b[0;34m)\u001b[0m\u001b[0;34m]\u001b[0m\u001b[0;34m\u001b[0m\u001b[0;34m\u001b[0m\u001b[0m\n\u001b[0m\u001b[1;32m     10\u001b[0m         )\n",
      "\u001b[0;32m/opt/anaconda3/lib/python3.8/site-packages/pandas_profiling/report/presentation/flavours/widget/container.py\u001b[0m in \u001b[0;36mrender\u001b[0;34m(self)\u001b[0m\n\u001b[1;32m    104\u001b[0m             \u001b[0mwidget\u001b[0m \u001b[0;34m=\u001b[0m \u001b[0mget_named_list\u001b[0m\u001b[0;34m(\u001b[0m\u001b[0mself\u001b[0m\u001b[0;34m.\u001b[0m\u001b[0mcontent\u001b[0m\u001b[0;34m[\u001b[0m\u001b[0;34m\"items\"\u001b[0m\u001b[0;34m]\u001b[0m\u001b[0;34m)\u001b[0m\u001b[0;34m\u001b[0m\u001b[0;34m\u001b[0m\u001b[0m\n\u001b[1;32m    105\u001b[0m         \u001b[0;32melif\u001b[0m \u001b[0mself\u001b[0m\u001b[0;34m.\u001b[0m\u001b[0msequence_type\u001b[0m \u001b[0;32min\u001b[0m \u001b[0;34m[\u001b[0m\u001b[0;34m\"tabs\"\u001b[0m\u001b[0;34m,\u001b[0m \u001b[0;34m\"sections\"\u001b[0m\u001b[0;34m,\u001b[0m \u001b[0;34m\"select\"\u001b[0m\u001b[0;34m]\u001b[0m\u001b[0;34m:\u001b[0m\u001b[0;34m\u001b[0m\u001b[0;34m\u001b[0m\u001b[0m\n\u001b[0;32m--> 106\u001b[0;31m             \u001b[0mwidget\u001b[0m \u001b[0;34m=\u001b[0m \u001b[0mget_tabs\u001b[0m\u001b[0;34m(\u001b[0m\u001b[0mself\u001b[0m\u001b[0;34m.\u001b[0m\u001b[0mcontent\u001b[0m\u001b[0;34m[\u001b[0m\u001b[0;34m\"items\"\u001b[0m\u001b[0;34m]\u001b[0m\u001b[0;34m)\u001b[0m\u001b[0;34m\u001b[0m\u001b[0;34m\u001b[0m\u001b[0m\n\u001b[0m\u001b[1;32m    107\u001b[0m         \u001b[0;32melif\u001b[0m \u001b[0mself\u001b[0m\u001b[0;34m.\u001b[0m\u001b[0msequence_type\u001b[0m \u001b[0;34m==\u001b[0m \u001b[0;34m\"accordion\"\u001b[0m\u001b[0;34m:\u001b[0m\u001b[0;34m\u001b[0m\u001b[0;34m\u001b[0m\u001b[0m\n\u001b[1;32m    108\u001b[0m             \u001b[0mwidget\u001b[0m \u001b[0;34m=\u001b[0m \u001b[0mget_accordion\u001b[0m\u001b[0;34m(\u001b[0m\u001b[0mself\u001b[0m\u001b[0;34m.\u001b[0m\u001b[0mcontent\u001b[0m\u001b[0;34m[\u001b[0m\u001b[0;34m\"items\"\u001b[0m\u001b[0;34m]\u001b[0m\u001b[0;34m)\u001b[0m\u001b[0;34m\u001b[0m\u001b[0;34m\u001b[0m\u001b[0m\n",
      "\u001b[0;32m/opt/anaconda3/lib/python3.8/site-packages/pandas_profiling/report/presentation/flavours/widget/container.py\u001b[0m in \u001b[0;36mget_tabs\u001b[0;34m(items)\u001b[0m\n\u001b[1;32m     18\u001b[0m     \u001b[0mtitles\u001b[0m \u001b[0;34m=\u001b[0m \u001b[0;34m[\u001b[0m\u001b[0;34m]\u001b[0m\u001b[0;34m\u001b[0m\u001b[0;34m\u001b[0m\u001b[0m\n\u001b[1;32m     19\u001b[0m     \u001b[0;32mfor\u001b[0m \u001b[0mitem\u001b[0m \u001b[0;32min\u001b[0m \u001b[0mitems\u001b[0m\u001b[0;34m:\u001b[0m\u001b[0;34m\u001b[0m\u001b[0;34m\u001b[0m\u001b[0m\n\u001b[0;32m---> 20\u001b[0;31m         \u001b[0mchildren\u001b[0m\u001b[0;34m.\u001b[0m\u001b[0mappend\u001b[0m\u001b[0;34m(\u001b[0m\u001b[0mitem\u001b[0m\u001b[0;34m.\u001b[0m\u001b[0mrender\u001b[0m\u001b[0;34m(\u001b[0m\u001b[0;34m)\u001b[0m\u001b[0;34m)\u001b[0m\u001b[0;34m\u001b[0m\u001b[0;34m\u001b[0m\u001b[0m\n\u001b[0m\u001b[1;32m     21\u001b[0m         \u001b[0mtitles\u001b[0m\u001b[0;34m.\u001b[0m\u001b[0mappend\u001b[0m\u001b[0;34m(\u001b[0m\u001b[0mget_name\u001b[0m\u001b[0;34m(\u001b[0m\u001b[0mitem\u001b[0m\u001b[0;34m)\u001b[0m\u001b[0;34m)\u001b[0m\u001b[0;34m\u001b[0m\u001b[0;34m\u001b[0m\u001b[0m\n\u001b[1;32m     22\u001b[0m \u001b[0;34m\u001b[0m\u001b[0m\n",
      "\u001b[0;32m/opt/anaconda3/lib/python3.8/site-packages/pandas_profiling/report/presentation/flavours/widget/container.py\u001b[0m in \u001b[0;36mrender\u001b[0;34m(self)\u001b[0m\n\u001b[1;32m    106\u001b[0m             \u001b[0mwidget\u001b[0m \u001b[0;34m=\u001b[0m \u001b[0mget_tabs\u001b[0m\u001b[0;34m(\u001b[0m\u001b[0mself\u001b[0m\u001b[0;34m.\u001b[0m\u001b[0mcontent\u001b[0m\u001b[0;34m[\u001b[0m\u001b[0;34m\"items\"\u001b[0m\u001b[0;34m]\u001b[0m\u001b[0;34m)\u001b[0m\u001b[0;34m\u001b[0m\u001b[0;34m\u001b[0m\u001b[0m\n\u001b[1;32m    107\u001b[0m         \u001b[0;32melif\u001b[0m \u001b[0mself\u001b[0m\u001b[0;34m.\u001b[0m\u001b[0msequence_type\u001b[0m \u001b[0;34m==\u001b[0m \u001b[0;34m\"accordion\"\u001b[0m\u001b[0;34m:\u001b[0m\u001b[0;34m\u001b[0m\u001b[0;34m\u001b[0m\u001b[0m\n\u001b[0;32m--> 108\u001b[0;31m             \u001b[0mwidget\u001b[0m \u001b[0;34m=\u001b[0m \u001b[0mget_accordion\u001b[0m\u001b[0;34m(\u001b[0m\u001b[0mself\u001b[0m\u001b[0;34m.\u001b[0m\u001b[0mcontent\u001b[0m\u001b[0;34m[\u001b[0m\u001b[0;34m\"items\"\u001b[0m\u001b[0;34m]\u001b[0m\u001b[0;34m)\u001b[0m\u001b[0;34m\u001b[0m\u001b[0;34m\u001b[0m\u001b[0m\n\u001b[0m\u001b[1;32m    109\u001b[0m         \u001b[0;32melif\u001b[0m \u001b[0mself\u001b[0m\u001b[0;34m.\u001b[0m\u001b[0msequence_type\u001b[0m \u001b[0;34m==\u001b[0m \u001b[0;34m\"grid\"\u001b[0m\u001b[0;34m:\u001b[0m\u001b[0;34m\u001b[0m\u001b[0;34m\u001b[0m\u001b[0m\n\u001b[1;32m    110\u001b[0m             \u001b[0mwidget\u001b[0m \u001b[0;34m=\u001b[0m \u001b[0mget_row\u001b[0m\u001b[0;34m(\u001b[0m\u001b[0mself\u001b[0m\u001b[0;34m.\u001b[0m\u001b[0mcontent\u001b[0m\u001b[0;34m[\u001b[0m\u001b[0;34m\"items\"\u001b[0m\u001b[0;34m]\u001b[0m\u001b[0;34m)\u001b[0m\u001b[0;34m\u001b[0m\u001b[0;34m\u001b[0m\u001b[0m\n",
      "\u001b[0;32m/opt/anaconda3/lib/python3.8/site-packages/pandas_profiling/report/presentation/flavours/widget/container.py\u001b[0m in \u001b[0;36mget_accordion\u001b[0;34m(items)\u001b[0m\n\u001b[1;32m     87\u001b[0m     \u001b[0mtitles\u001b[0m \u001b[0;34m=\u001b[0m \u001b[0;34m[\u001b[0m\u001b[0;34m]\u001b[0m\u001b[0;34m\u001b[0m\u001b[0;34m\u001b[0m\u001b[0m\n\u001b[1;32m     88\u001b[0m     \u001b[0;32mfor\u001b[0m \u001b[0mitem\u001b[0m \u001b[0;32min\u001b[0m \u001b[0mitems\u001b[0m\u001b[0;34m:\u001b[0m\u001b[0;34m\u001b[0m\u001b[0;34m\u001b[0m\u001b[0m\n\u001b[0;32m---> 89\u001b[0;31m         \u001b[0mchildren\u001b[0m\u001b[0;34m.\u001b[0m\u001b[0mappend\u001b[0m\u001b[0;34m(\u001b[0m\u001b[0mitem\u001b[0m\u001b[0;34m.\u001b[0m\u001b[0mrender\u001b[0m\u001b[0;34m(\u001b[0m\u001b[0;34m)\u001b[0m\u001b[0;34m)\u001b[0m\u001b[0;34m\u001b[0m\u001b[0;34m\u001b[0m\u001b[0m\n\u001b[0m\u001b[1;32m     90\u001b[0m         \u001b[0mtitles\u001b[0m\u001b[0;34m.\u001b[0m\u001b[0mappend\u001b[0m\u001b[0;34m(\u001b[0m\u001b[0mget_name\u001b[0m\u001b[0;34m(\u001b[0m\u001b[0mitem\u001b[0m\u001b[0;34m)\u001b[0m\u001b[0;34m)\u001b[0m\u001b[0;34m\u001b[0m\u001b[0;34m\u001b[0m\u001b[0m\n\u001b[1;32m     91\u001b[0m \u001b[0;34m\u001b[0m\u001b[0m\n",
      "\u001b[0;32m/opt/anaconda3/lib/python3.8/site-packages/pandas_profiling/report/presentation/flavours/widget/variable.py\u001b[0m in \u001b[0;36mrender\u001b[0;34m(self)\u001b[0m\n\u001b[1;32m      8\u001b[0m         \u001b[0mitems\u001b[0m \u001b[0;34m=\u001b[0m \u001b[0;34m[\u001b[0m\u001b[0mself\u001b[0m\u001b[0;34m.\u001b[0m\u001b[0mcontent\u001b[0m\u001b[0;34m[\u001b[0m\u001b[0;34m\"top\"\u001b[0m\u001b[0;34m]\u001b[0m\u001b[0;34m.\u001b[0m\u001b[0mrender\u001b[0m\u001b[0;34m(\u001b[0m\u001b[0;34m)\u001b[0m\u001b[0;34m]\u001b[0m\u001b[0;34m\u001b[0m\u001b[0;34m\u001b[0m\u001b[0m\n\u001b[1;32m      9\u001b[0m         \u001b[0;32mif\u001b[0m \u001b[0mself\u001b[0m\u001b[0;34m.\u001b[0m\u001b[0mcontent\u001b[0m\u001b[0;34m[\u001b[0m\u001b[0;34m\"bottom\"\u001b[0m\u001b[0;34m]\u001b[0m \u001b[0;32mis\u001b[0m \u001b[0;32mnot\u001b[0m \u001b[0;32mNone\u001b[0m\u001b[0;34m:\u001b[0m\u001b[0;34m\u001b[0m\u001b[0;34m\u001b[0m\u001b[0m\n\u001b[0;32m---> 10\u001b[0;31m             \u001b[0mitems\u001b[0m\u001b[0;34m.\u001b[0m\u001b[0mappend\u001b[0m\u001b[0;34m(\u001b[0m\u001b[0mself\u001b[0m\u001b[0;34m.\u001b[0m\u001b[0mcontent\u001b[0m\u001b[0;34m[\u001b[0m\u001b[0;34m\"bottom\"\u001b[0m\u001b[0;34m]\u001b[0m\u001b[0;34m.\u001b[0m\u001b[0mrender\u001b[0m\u001b[0;34m(\u001b[0m\u001b[0;34m)\u001b[0m\u001b[0;34m)\u001b[0m\u001b[0;34m\u001b[0m\u001b[0;34m\u001b[0m\u001b[0m\n\u001b[0m\u001b[1;32m     11\u001b[0m \u001b[0;34m\u001b[0m\u001b[0m\n\u001b[1;32m     12\u001b[0m         \u001b[0;32mreturn\u001b[0m \u001b[0mwidgets\u001b[0m\u001b[0;34m.\u001b[0m\u001b[0mVBox\u001b[0m\u001b[0;34m(\u001b[0m\u001b[0mitems\u001b[0m\u001b[0;34m)\u001b[0m\u001b[0;34m\u001b[0m\u001b[0;34m\u001b[0m\u001b[0m\n",
      "\u001b[0;32m/opt/anaconda3/lib/python3.8/site-packages/pandas_profiling/report/presentation/flavours/widget/collapse.py\u001b[0m in \u001b[0;36mrender\u001b[0;34m(self)\u001b[0m\n\u001b[1;32m     12\u001b[0m \u001b[0;34m\u001b[0m\u001b[0m\n\u001b[1;32m     13\u001b[0m         \u001b[0mtoggle\u001b[0m \u001b[0;34m=\u001b[0m \u001b[0mself\u001b[0m\u001b[0;34m.\u001b[0m\u001b[0mcontent\u001b[0m\u001b[0;34m[\u001b[0m\u001b[0;34m\"button\"\u001b[0m\u001b[0;34m]\u001b[0m\u001b[0;34m.\u001b[0m\u001b[0mrender\u001b[0m\u001b[0;34m(\u001b[0m\u001b[0;34m)\u001b[0m\u001b[0;34m\u001b[0m\u001b[0;34m\u001b[0m\u001b[0m\n\u001b[0;32m---> 14\u001b[0;31m         \u001b[0mitem\u001b[0m \u001b[0;34m=\u001b[0m \u001b[0mself\u001b[0m\u001b[0;34m.\u001b[0m\u001b[0mcontent\u001b[0m\u001b[0;34m[\u001b[0m\u001b[0;34m\"item\"\u001b[0m\u001b[0;34m]\u001b[0m\u001b[0;34m.\u001b[0m\u001b[0mrender\u001b[0m\u001b[0;34m(\u001b[0m\u001b[0;34m)\u001b[0m\u001b[0;34m\u001b[0m\u001b[0;34m\u001b[0m\u001b[0m\n\u001b[0m\u001b[1;32m     15\u001b[0m \u001b[0;34m\u001b[0m\u001b[0m\n\u001b[1;32m     16\u001b[0m         \u001b[0;32mif\u001b[0m \u001b[0mcollapse\u001b[0m \u001b[0;34m==\u001b[0m \u001b[0;34m\"correlation\"\u001b[0m\u001b[0;34m:\u001b[0m\u001b[0;34m\u001b[0m\u001b[0;34m\u001b[0m\u001b[0m\n",
      "\u001b[0;32m/opt/anaconda3/lib/python3.8/site-packages/pandas_profiling/report/presentation/flavours/widget/container.py\u001b[0m in \u001b[0;36mrender\u001b[0;34m(self)\u001b[0m\n\u001b[1;32m    104\u001b[0m             \u001b[0mwidget\u001b[0m \u001b[0;34m=\u001b[0m \u001b[0mget_named_list\u001b[0m\u001b[0;34m(\u001b[0m\u001b[0mself\u001b[0m\u001b[0;34m.\u001b[0m\u001b[0mcontent\u001b[0m\u001b[0;34m[\u001b[0m\u001b[0;34m\"items\"\u001b[0m\u001b[0;34m]\u001b[0m\u001b[0;34m)\u001b[0m\u001b[0;34m\u001b[0m\u001b[0;34m\u001b[0m\u001b[0m\n\u001b[1;32m    105\u001b[0m         \u001b[0;32melif\u001b[0m \u001b[0mself\u001b[0m\u001b[0;34m.\u001b[0m\u001b[0msequence_type\u001b[0m \u001b[0;32min\u001b[0m \u001b[0;34m[\u001b[0m\u001b[0;34m\"tabs\"\u001b[0m\u001b[0;34m,\u001b[0m \u001b[0;34m\"sections\"\u001b[0m\u001b[0;34m,\u001b[0m \u001b[0;34m\"select\"\u001b[0m\u001b[0;34m]\u001b[0m\u001b[0;34m:\u001b[0m\u001b[0;34m\u001b[0m\u001b[0;34m\u001b[0m\u001b[0m\n\u001b[0;32m--> 106\u001b[0;31m             \u001b[0mwidget\u001b[0m \u001b[0;34m=\u001b[0m \u001b[0mget_tabs\u001b[0m\u001b[0;34m(\u001b[0m\u001b[0mself\u001b[0m\u001b[0;34m.\u001b[0m\u001b[0mcontent\u001b[0m\u001b[0;34m[\u001b[0m\u001b[0;34m\"items\"\u001b[0m\u001b[0;34m]\u001b[0m\u001b[0;34m)\u001b[0m\u001b[0;34m\u001b[0m\u001b[0;34m\u001b[0m\u001b[0m\n\u001b[0m\u001b[1;32m    107\u001b[0m         \u001b[0;32melif\u001b[0m \u001b[0mself\u001b[0m\u001b[0;34m.\u001b[0m\u001b[0msequence_type\u001b[0m \u001b[0;34m==\u001b[0m \u001b[0;34m\"accordion\"\u001b[0m\u001b[0;34m:\u001b[0m\u001b[0;34m\u001b[0m\u001b[0;34m\u001b[0m\u001b[0m\n\u001b[1;32m    108\u001b[0m             \u001b[0mwidget\u001b[0m \u001b[0;34m=\u001b[0m \u001b[0mget_accordion\u001b[0m\u001b[0;34m(\u001b[0m\u001b[0mself\u001b[0m\u001b[0;34m.\u001b[0m\u001b[0mcontent\u001b[0m\u001b[0;34m[\u001b[0m\u001b[0;34m\"items\"\u001b[0m\u001b[0;34m]\u001b[0m\u001b[0;34m)\u001b[0m\u001b[0;34m\u001b[0m\u001b[0;34m\u001b[0m\u001b[0m\n",
      "\u001b[0;32m/opt/anaconda3/lib/python3.8/site-packages/pandas_profiling/report/presentation/flavours/widget/container.py\u001b[0m in \u001b[0;36mget_tabs\u001b[0;34m(items)\u001b[0m\n\u001b[1;32m     18\u001b[0m     \u001b[0mtitles\u001b[0m \u001b[0;34m=\u001b[0m \u001b[0;34m[\u001b[0m\u001b[0;34m]\u001b[0m\u001b[0;34m\u001b[0m\u001b[0;34m\u001b[0m\u001b[0m\n\u001b[1;32m     19\u001b[0m     \u001b[0;32mfor\u001b[0m \u001b[0mitem\u001b[0m \u001b[0;32min\u001b[0m \u001b[0mitems\u001b[0m\u001b[0;34m:\u001b[0m\u001b[0;34m\u001b[0m\u001b[0;34m\u001b[0m\u001b[0m\n\u001b[0;32m---> 20\u001b[0;31m         \u001b[0mchildren\u001b[0m\u001b[0;34m.\u001b[0m\u001b[0mappend\u001b[0m\u001b[0;34m(\u001b[0m\u001b[0mitem\u001b[0m\u001b[0;34m.\u001b[0m\u001b[0mrender\u001b[0m\u001b[0;34m(\u001b[0m\u001b[0;34m)\u001b[0m\u001b[0;34m)\u001b[0m\u001b[0;34m\u001b[0m\u001b[0;34m\u001b[0m\u001b[0m\n\u001b[0m\u001b[1;32m     21\u001b[0m         \u001b[0mtitles\u001b[0m\u001b[0;34m.\u001b[0m\u001b[0mappend\u001b[0m\u001b[0;34m(\u001b[0m\u001b[0mget_name\u001b[0m\u001b[0;34m(\u001b[0m\u001b[0mitem\u001b[0m\u001b[0;34m)\u001b[0m\u001b[0;34m)\u001b[0m\u001b[0;34m\u001b[0m\u001b[0;34m\u001b[0m\u001b[0m\n\u001b[1;32m     22\u001b[0m \u001b[0;34m\u001b[0m\u001b[0m\n",
      "\u001b[0;32m/opt/anaconda3/lib/python3.8/site-packages/pandas_profiling/report/presentation/flavours/widget/container.py\u001b[0m in \u001b[0;36mrender\u001b[0;34m(self)\u001b[0m\n\u001b[1;32m    108\u001b[0m             \u001b[0mwidget\u001b[0m \u001b[0;34m=\u001b[0m \u001b[0mget_accordion\u001b[0m\u001b[0;34m(\u001b[0m\u001b[0mself\u001b[0m\u001b[0;34m.\u001b[0m\u001b[0mcontent\u001b[0m\u001b[0;34m[\u001b[0m\u001b[0;34m\"items\"\u001b[0m\u001b[0;34m]\u001b[0m\u001b[0;34m)\u001b[0m\u001b[0;34m\u001b[0m\u001b[0;34m\u001b[0m\u001b[0m\n\u001b[1;32m    109\u001b[0m         \u001b[0;32melif\u001b[0m \u001b[0mself\u001b[0m\u001b[0;34m.\u001b[0m\u001b[0msequence_type\u001b[0m \u001b[0;34m==\u001b[0m \u001b[0;34m\"grid\"\u001b[0m\u001b[0;34m:\u001b[0m\u001b[0;34m\u001b[0m\u001b[0;34m\u001b[0m\u001b[0m\n\u001b[0;32m--> 110\u001b[0;31m             \u001b[0mwidget\u001b[0m \u001b[0;34m=\u001b[0m \u001b[0mget_row\u001b[0m\u001b[0;34m(\u001b[0m\u001b[0mself\u001b[0m\u001b[0;34m.\u001b[0m\u001b[0mcontent\u001b[0m\u001b[0;34m[\u001b[0m\u001b[0;34m\"items\"\u001b[0m\u001b[0;34m]\u001b[0m\u001b[0;34m)\u001b[0m\u001b[0;34m\u001b[0m\u001b[0;34m\u001b[0m\u001b[0m\n\u001b[0m\u001b[1;32m    111\u001b[0m         \u001b[0;32melif\u001b[0m \u001b[0mself\u001b[0m\u001b[0;34m.\u001b[0m\u001b[0msequence_type\u001b[0m \u001b[0;34m==\u001b[0m \u001b[0;34m\"batch_grid\"\u001b[0m\u001b[0;34m:\u001b[0m\u001b[0;34m\u001b[0m\u001b[0;34m\u001b[0m\u001b[0m\n\u001b[1;32m    112\u001b[0m             widget = get_batch_grid(\n",
      "\u001b[0;32m/opt/anaconda3/lib/python3.8/site-packages/pandas_profiling/report/presentation/flavours/widget/container.py\u001b[0m in \u001b[0;36mget_row\u001b[0;34m(items)\u001b[0m\n\u001b[1;32m     55\u001b[0m         \u001b[0;32mraise\u001b[0m \u001b[0mValueError\u001b[0m\u001b[0;34m(\u001b[0m\u001b[0;34m\"Layout undefined for this number of columns\"\u001b[0m\u001b[0;34m)\u001b[0m\u001b[0;34m\u001b[0m\u001b[0;34m\u001b[0m\u001b[0m\n\u001b[1;32m     56\u001b[0m \u001b[0;34m\u001b[0m\u001b[0m\n\u001b[0;32m---> 57\u001b[0;31m     \u001b[0;32mreturn\u001b[0m \u001b[0mwidgets\u001b[0m\u001b[0;34m.\u001b[0m\u001b[0mGridBox\u001b[0m\u001b[0;34m(\u001b[0m\u001b[0;34m[\u001b[0m\u001b[0mitem\u001b[0m\u001b[0;34m.\u001b[0m\u001b[0mrender\u001b[0m\u001b[0;34m(\u001b[0m\u001b[0;34m)\u001b[0m \u001b[0;32mfor\u001b[0m \u001b[0mitem\u001b[0m \u001b[0;32min\u001b[0m \u001b[0mitems\u001b[0m\u001b[0;34m]\u001b[0m\u001b[0;34m,\u001b[0m \u001b[0mlayout\u001b[0m\u001b[0;34m=\u001b[0m\u001b[0mlayout\u001b[0m\u001b[0;34m)\u001b[0m\u001b[0;34m\u001b[0m\u001b[0;34m\u001b[0m\u001b[0m\n\u001b[0m\u001b[1;32m     58\u001b[0m \u001b[0;34m\u001b[0m\u001b[0m\n\u001b[1;32m     59\u001b[0m \u001b[0;34m\u001b[0m\u001b[0m\n",
      "\u001b[0;32m/opt/anaconda3/lib/python3.8/site-packages/pandas_profiling/report/presentation/flavours/widget/container.py\u001b[0m in \u001b[0;36m<listcomp>\u001b[0;34m(.0)\u001b[0m\n\u001b[1;32m     55\u001b[0m         \u001b[0;32mraise\u001b[0m \u001b[0mValueError\u001b[0m\u001b[0;34m(\u001b[0m\u001b[0;34m\"Layout undefined for this number of columns\"\u001b[0m\u001b[0;34m)\u001b[0m\u001b[0;34m\u001b[0m\u001b[0;34m\u001b[0m\u001b[0m\n\u001b[1;32m     56\u001b[0m \u001b[0;34m\u001b[0m\u001b[0m\n\u001b[0;32m---> 57\u001b[0;31m     \u001b[0;32mreturn\u001b[0m \u001b[0mwidgets\u001b[0m\u001b[0;34m.\u001b[0m\u001b[0mGridBox\u001b[0m\u001b[0;34m(\u001b[0m\u001b[0;34m[\u001b[0m\u001b[0mitem\u001b[0m\u001b[0;34m.\u001b[0m\u001b[0mrender\u001b[0m\u001b[0;34m(\u001b[0m\u001b[0;34m)\u001b[0m \u001b[0;32mfor\u001b[0m \u001b[0mitem\u001b[0m \u001b[0;32min\u001b[0m \u001b[0mitems\u001b[0m\u001b[0;34m]\u001b[0m\u001b[0;34m,\u001b[0m \u001b[0mlayout\u001b[0m\u001b[0;34m=\u001b[0m\u001b[0mlayout\u001b[0m\u001b[0;34m)\u001b[0m\u001b[0;34m\u001b[0m\u001b[0;34m\u001b[0m\u001b[0m\n\u001b[0m\u001b[1;32m     58\u001b[0m \u001b[0;34m\u001b[0m\u001b[0m\n\u001b[1;32m     59\u001b[0m \u001b[0;34m\u001b[0m\u001b[0m\n",
      "\u001b[0;32m/opt/anaconda3/lib/python3.8/site-packages/pandas_profiling/report/presentation/flavours/widget/container.py\u001b[0m in \u001b[0;36mrender\u001b[0;34m(self)\u001b[0m\n\u001b[1;32m    104\u001b[0m             \u001b[0mwidget\u001b[0m \u001b[0;34m=\u001b[0m \u001b[0mget_named_list\u001b[0m\u001b[0;34m(\u001b[0m\u001b[0mself\u001b[0m\u001b[0;34m.\u001b[0m\u001b[0mcontent\u001b[0m\u001b[0;34m[\u001b[0m\u001b[0;34m\"items\"\u001b[0m\u001b[0;34m]\u001b[0m\u001b[0;34m)\u001b[0m\u001b[0;34m\u001b[0m\u001b[0;34m\u001b[0m\u001b[0m\n\u001b[1;32m    105\u001b[0m         \u001b[0;32melif\u001b[0m \u001b[0mself\u001b[0m\u001b[0;34m.\u001b[0m\u001b[0msequence_type\u001b[0m \u001b[0;32min\u001b[0m \u001b[0;34m[\u001b[0m\u001b[0;34m\"tabs\"\u001b[0m\u001b[0;34m,\u001b[0m \u001b[0;34m\"sections\"\u001b[0m\u001b[0;34m,\u001b[0m \u001b[0;34m\"select\"\u001b[0m\u001b[0;34m]\u001b[0m\u001b[0;34m:\u001b[0m\u001b[0;34m\u001b[0m\u001b[0;34m\u001b[0m\u001b[0m\n\u001b[0;32m--> 106\u001b[0;31m             \u001b[0mwidget\u001b[0m \u001b[0;34m=\u001b[0m \u001b[0mget_tabs\u001b[0m\u001b[0;34m(\u001b[0m\u001b[0mself\u001b[0m\u001b[0;34m.\u001b[0m\u001b[0mcontent\u001b[0m\u001b[0;34m[\u001b[0m\u001b[0;34m\"items\"\u001b[0m\u001b[0;34m]\u001b[0m\u001b[0;34m)\u001b[0m\u001b[0;34m\u001b[0m\u001b[0;34m\u001b[0m\u001b[0m\n\u001b[0m\u001b[1;32m    107\u001b[0m         \u001b[0;32melif\u001b[0m \u001b[0mself\u001b[0m\u001b[0;34m.\u001b[0m\u001b[0msequence_type\u001b[0m \u001b[0;34m==\u001b[0m \u001b[0;34m\"accordion\"\u001b[0m\u001b[0;34m:\u001b[0m\u001b[0;34m\u001b[0m\u001b[0;34m\u001b[0m\u001b[0m\n\u001b[1;32m    108\u001b[0m             \u001b[0mwidget\u001b[0m \u001b[0;34m=\u001b[0m \u001b[0mget_accordion\u001b[0m\u001b[0;34m(\u001b[0m\u001b[0mself\u001b[0m\u001b[0;34m.\u001b[0m\u001b[0mcontent\u001b[0m\u001b[0;34m[\u001b[0m\u001b[0;34m\"items\"\u001b[0m\u001b[0;34m]\u001b[0m\u001b[0;34m)\u001b[0m\u001b[0;34m\u001b[0m\u001b[0;34m\u001b[0m\u001b[0m\n",
      "\u001b[0;32m/opt/anaconda3/lib/python3.8/site-packages/pandas_profiling/report/presentation/flavours/widget/container.py\u001b[0m in \u001b[0;36mget_tabs\u001b[0;34m(items)\u001b[0m\n\u001b[1;32m     18\u001b[0m     \u001b[0mtitles\u001b[0m \u001b[0;34m=\u001b[0m \u001b[0;34m[\u001b[0m\u001b[0;34m]\u001b[0m\u001b[0;34m\u001b[0m\u001b[0;34m\u001b[0m\u001b[0m\n\u001b[1;32m     19\u001b[0m     \u001b[0;32mfor\u001b[0m \u001b[0mitem\u001b[0m \u001b[0;32min\u001b[0m \u001b[0mitems\u001b[0m\u001b[0;34m:\u001b[0m\u001b[0;34m\u001b[0m\u001b[0;34m\u001b[0m\u001b[0m\n\u001b[0;32m---> 20\u001b[0;31m         \u001b[0mchildren\u001b[0m\u001b[0;34m.\u001b[0m\u001b[0mappend\u001b[0m\u001b[0;34m(\u001b[0m\u001b[0mitem\u001b[0m\u001b[0;34m.\u001b[0m\u001b[0mrender\u001b[0m\u001b[0;34m(\u001b[0m\u001b[0;34m)\u001b[0m\u001b[0;34m)\u001b[0m\u001b[0;34m\u001b[0m\u001b[0;34m\u001b[0m\u001b[0m\n\u001b[0m\u001b[1;32m     21\u001b[0m         \u001b[0mtitles\u001b[0m\u001b[0;34m.\u001b[0m\u001b[0mappend\u001b[0m\u001b[0;34m(\u001b[0m\u001b[0mget_name\u001b[0m\u001b[0;34m(\u001b[0m\u001b[0mitem\u001b[0m\u001b[0;34m)\u001b[0m\u001b[0;34m)\u001b[0m\u001b[0;34m\u001b[0m\u001b[0;34m\u001b[0m\u001b[0m\n\u001b[1;32m     22\u001b[0m \u001b[0;34m\u001b[0m\u001b[0m\n",
      "\u001b[0;32m/opt/anaconda3/lib/python3.8/site-packages/pandas_profiling/report/presentation/flavours/widget/container.py\u001b[0m in \u001b[0;36mrender\u001b[0;34m(self)\u001b[0m\n\u001b[1;32m    102\u001b[0m             \u001b[0mwidget\u001b[0m \u001b[0;34m=\u001b[0m \u001b[0mget_list\u001b[0m\u001b[0;34m(\u001b[0m\u001b[0mself\u001b[0m\u001b[0;34m.\u001b[0m\u001b[0mcontent\u001b[0m\u001b[0;34m[\u001b[0m\u001b[0;34m\"items\"\u001b[0m\u001b[0;34m]\u001b[0m\u001b[0;34m)\u001b[0m\u001b[0;34m\u001b[0m\u001b[0;34m\u001b[0m\u001b[0m\n\u001b[1;32m    103\u001b[0m         \u001b[0;32melif\u001b[0m \u001b[0mself\u001b[0m\u001b[0;34m.\u001b[0m\u001b[0msequence_type\u001b[0m \u001b[0;34m==\u001b[0m \u001b[0;34m\"named_list\"\u001b[0m\u001b[0;34m:\u001b[0m\u001b[0;34m\u001b[0m\u001b[0;34m\u001b[0m\u001b[0m\n\u001b[0;32m--> 104\u001b[0;31m             \u001b[0mwidget\u001b[0m \u001b[0;34m=\u001b[0m \u001b[0mget_named_list\u001b[0m\u001b[0;34m(\u001b[0m\u001b[0mself\u001b[0m\u001b[0;34m.\u001b[0m\u001b[0mcontent\u001b[0m\u001b[0;34m[\u001b[0m\u001b[0;34m\"items\"\u001b[0m\u001b[0;34m]\u001b[0m\u001b[0;34m)\u001b[0m\u001b[0;34m\u001b[0m\u001b[0;34m\u001b[0m\u001b[0m\n\u001b[0m\u001b[1;32m    105\u001b[0m         \u001b[0;32melif\u001b[0m \u001b[0mself\u001b[0m\u001b[0;34m.\u001b[0m\u001b[0msequence_type\u001b[0m \u001b[0;32min\u001b[0m \u001b[0;34m[\u001b[0m\u001b[0;34m\"tabs\"\u001b[0m\u001b[0;34m,\u001b[0m \u001b[0;34m\"sections\"\u001b[0m\u001b[0;34m,\u001b[0m \u001b[0;34m\"select\"\u001b[0m\u001b[0;34m]\u001b[0m\u001b[0;34m:\u001b[0m\u001b[0;34m\u001b[0m\u001b[0;34m\u001b[0m\u001b[0m\n\u001b[1;32m    106\u001b[0m             \u001b[0mwidget\u001b[0m \u001b[0;34m=\u001b[0m \u001b[0mget_tabs\u001b[0m\u001b[0;34m(\u001b[0m\u001b[0mself\u001b[0m\u001b[0;34m.\u001b[0m\u001b[0mcontent\u001b[0m\u001b[0;34m[\u001b[0m\u001b[0;34m\"items\"\u001b[0m\u001b[0;34m]\u001b[0m\u001b[0;34m)\u001b[0m\u001b[0;34m\u001b[0m\u001b[0;34m\u001b[0m\u001b[0m\n",
      "\u001b[0;32m/opt/anaconda3/lib/python3.8/site-packages/pandas_profiling/report/presentation/flavours/widget/container.py\u001b[0m in \u001b[0;36mget_named_list\u001b[0;34m(items)\u001b[0m\n\u001b[1;32m     34\u001b[0m \u001b[0;32mdef\u001b[0m \u001b[0mget_named_list\u001b[0m\u001b[0;34m(\u001b[0m\u001b[0mitems\u001b[0m\u001b[0;34m:\u001b[0m \u001b[0mList\u001b[0m\u001b[0;34m[\u001b[0m\u001b[0mRenderable\u001b[0m\u001b[0;34m]\u001b[0m\u001b[0;34m)\u001b[0m \u001b[0;34m->\u001b[0m \u001b[0mwidgets\u001b[0m\u001b[0;34m.\u001b[0m\u001b[0mVBox\u001b[0m\u001b[0;34m:\u001b[0m\u001b[0;34m\u001b[0m\u001b[0;34m\u001b[0m\u001b[0m\n\u001b[1;32m     35\u001b[0m     return widgets.VBox(\n\u001b[0;32m---> 36\u001b[0;31m         [\n\u001b[0m\u001b[1;32m     37\u001b[0m             widgets.VBox(\n\u001b[1;32m     38\u001b[0m                 \u001b[0;34m[\u001b[0m\u001b[0mwidgets\u001b[0m\u001b[0;34m.\u001b[0m\u001b[0mHTML\u001b[0m\u001b[0;34m(\u001b[0m\u001b[0;34mf\"<strong>{get_name(item)}</strong>\"\u001b[0m\u001b[0;34m)\u001b[0m\u001b[0;34m,\u001b[0m \u001b[0mitem\u001b[0m\u001b[0;34m.\u001b[0m\u001b[0mrender\u001b[0m\u001b[0;34m(\u001b[0m\u001b[0;34m)\u001b[0m\u001b[0;34m]\u001b[0m\u001b[0;34m\u001b[0m\u001b[0;34m\u001b[0m\u001b[0m\n",
      "\u001b[0;32m/opt/anaconda3/lib/python3.8/site-packages/pandas_profiling/report/presentation/flavours/widget/container.py\u001b[0m in \u001b[0;36m<listcomp>\u001b[0;34m(.0)\u001b[0m\n\u001b[1;32m     36\u001b[0m         [\n\u001b[1;32m     37\u001b[0m             widgets.VBox(\n\u001b[0;32m---> 38\u001b[0;31m                 \u001b[0;34m[\u001b[0m\u001b[0mwidgets\u001b[0m\u001b[0;34m.\u001b[0m\u001b[0mHTML\u001b[0m\u001b[0;34m(\u001b[0m\u001b[0;34mf\"<strong>{get_name(item)}</strong>\"\u001b[0m\u001b[0;34m)\u001b[0m\u001b[0;34m,\u001b[0m \u001b[0mitem\u001b[0m\u001b[0;34m.\u001b[0m\u001b[0mrender\u001b[0m\u001b[0;34m(\u001b[0m\u001b[0;34m)\u001b[0m\u001b[0;34m]\u001b[0m\u001b[0;34m\u001b[0m\u001b[0;34m\u001b[0m\u001b[0m\n\u001b[0m\u001b[1;32m     39\u001b[0m             )\n\u001b[1;32m     40\u001b[0m             \u001b[0;32mfor\u001b[0m \u001b[0mitem\u001b[0m \u001b[0;32min\u001b[0m \u001b[0mitems\u001b[0m\u001b[0;34m\u001b[0m\u001b[0;34m\u001b[0m\u001b[0m\n",
      "\u001b[0;32m/opt/anaconda3/lib/python3.8/site-packages/pandas_profiling/report/presentation/flavours/widget/frequency_table.py\u001b[0m in \u001b[0;36mrender\u001b[0;34m(self)\u001b[0m\n\u001b[1;32m     54\u001b[0m                 )\n\u001b[1;32m     55\u001b[0m \u001b[0;34m\u001b[0m\u001b[0m\n\u001b[0;32m---> 56\u001b[0;31m         \u001b[0;32mreturn\u001b[0m \u001b[0mget_table\u001b[0m\u001b[0;34m(\u001b[0m\u001b[0mitems\u001b[0m\u001b[0;34m)\u001b[0m\u001b[0;34m\u001b[0m\u001b[0;34m\u001b[0m\u001b[0m\n\u001b[0m",
      "\u001b[0;32m/opt/anaconda3/lib/python3.8/site-packages/pandas_profiling/report/presentation/flavours/widget/frequency_table.py\u001b[0m in \u001b[0;36mget_table\u001b[0;34m(items)\u001b[0m\n\u001b[1;32m      9\u001b[0m     \u001b[0mitems\u001b[0m\u001b[0;34m:\u001b[0m \u001b[0mList\u001b[0m\u001b[0;34m[\u001b[0m\u001b[0mTuple\u001b[0m\u001b[0;34m[\u001b[0m\u001b[0mwidgets\u001b[0m\u001b[0;34m.\u001b[0m\u001b[0mLabel\u001b[0m\u001b[0;34m,\u001b[0m \u001b[0mwidgets\u001b[0m\u001b[0;34m.\u001b[0m\u001b[0mFloatProgress\u001b[0m\u001b[0;34m,\u001b[0m \u001b[0mwidgets\u001b[0m\u001b[0;34m.\u001b[0m\u001b[0mLabel\u001b[0m\u001b[0;34m]\u001b[0m\u001b[0;34m]\u001b[0m\u001b[0;34m\u001b[0m\u001b[0;34m\u001b[0m\u001b[0m\n\u001b[1;32m     10\u001b[0m ) -> VBox:\n\u001b[0;32m---> 11\u001b[0;31m     \u001b[0mtable\u001b[0m \u001b[0;34m=\u001b[0m \u001b[0mGridspecLayout\u001b[0m\u001b[0;34m(\u001b[0m\u001b[0mlen\u001b[0m\u001b[0;34m(\u001b[0m\u001b[0mitems\u001b[0m\u001b[0;34m)\u001b[0m\u001b[0;34m,\u001b[0m \u001b[0;36m3\u001b[0m\u001b[0;34m)\u001b[0m\u001b[0;34m\u001b[0m\u001b[0;34m\u001b[0m\u001b[0m\n\u001b[0m\u001b[1;32m     12\u001b[0m     \u001b[0;32mfor\u001b[0m \u001b[0mrow_id\u001b[0m\u001b[0;34m,\u001b[0m \u001b[0;34m(\u001b[0m\u001b[0mlabel\u001b[0m\u001b[0;34m,\u001b[0m \u001b[0mprogress\u001b[0m\u001b[0;34m,\u001b[0m \u001b[0mcount\u001b[0m\u001b[0;34m)\u001b[0m \u001b[0;32min\u001b[0m \u001b[0menumerate\u001b[0m\u001b[0;34m(\u001b[0m\u001b[0mitems\u001b[0m\u001b[0;34m)\u001b[0m\u001b[0;34m:\u001b[0m\u001b[0;34m\u001b[0m\u001b[0;34m\u001b[0m\u001b[0m\n\u001b[1;32m     13\u001b[0m         \u001b[0mtable\u001b[0m\u001b[0;34m[\u001b[0m\u001b[0mrow_id\u001b[0m\u001b[0;34m,\u001b[0m \u001b[0;36m0\u001b[0m\u001b[0;34m]\u001b[0m \u001b[0;34m=\u001b[0m \u001b[0mlabel\u001b[0m\u001b[0;34m\u001b[0m\u001b[0;34m\u001b[0m\u001b[0m\n",
      "\u001b[0;32m/opt/anaconda3/lib/python3.8/site-packages/ipywidgets/widgets/widget_templates.py\u001b[0m in \u001b[0;36m__init__\u001b[0;34m(self, n_rows, n_columns, **kwargs)\u001b[0m\n\u001b[1;32m    280\u001b[0m     \u001b[0;32mdef\u001b[0m \u001b[0m__init__\u001b[0m\u001b[0;34m(\u001b[0m\u001b[0mself\u001b[0m\u001b[0;34m,\u001b[0m \u001b[0mn_rows\u001b[0m\u001b[0;34m=\u001b[0m\u001b[0;32mNone\u001b[0m\u001b[0;34m,\u001b[0m \u001b[0mn_columns\u001b[0m\u001b[0;34m=\u001b[0m\u001b[0;32mNone\u001b[0m\u001b[0;34m,\u001b[0m \u001b[0;34m**\u001b[0m\u001b[0mkwargs\u001b[0m\u001b[0;34m)\u001b[0m\u001b[0;34m:\u001b[0m\u001b[0;34m\u001b[0m\u001b[0;34m\u001b[0m\u001b[0m\n\u001b[1;32m    281\u001b[0m         \u001b[0msuper\u001b[0m\u001b[0;34m(\u001b[0m\u001b[0mGridspecLayout\u001b[0m\u001b[0;34m,\u001b[0m \u001b[0mself\u001b[0m\u001b[0;34m)\u001b[0m\u001b[0;34m.\u001b[0m\u001b[0m__init__\u001b[0m\u001b[0;34m(\u001b[0m\u001b[0;34m**\u001b[0m\u001b[0mkwargs\u001b[0m\u001b[0;34m)\u001b[0m\u001b[0;34m\u001b[0m\u001b[0;34m\u001b[0m\u001b[0m\n\u001b[0;32m--> 282\u001b[0;31m         \u001b[0mself\u001b[0m\u001b[0;34m.\u001b[0m\u001b[0mn_rows\u001b[0m \u001b[0;34m=\u001b[0m \u001b[0mn_rows\u001b[0m\u001b[0;34m\u001b[0m\u001b[0;34m\u001b[0m\u001b[0m\n\u001b[0m\u001b[1;32m    283\u001b[0m         \u001b[0mself\u001b[0m\u001b[0;34m.\u001b[0m\u001b[0mn_columns\u001b[0m \u001b[0;34m=\u001b[0m \u001b[0mn_columns\u001b[0m\u001b[0;34m\u001b[0m\u001b[0;34m\u001b[0m\u001b[0m\n\u001b[1;32m    284\u001b[0m         \u001b[0mself\u001b[0m\u001b[0;34m.\u001b[0m\u001b[0m_grid_template_areas\u001b[0m \u001b[0;34m=\u001b[0m \u001b[0;34m[\u001b[0m\u001b[0;34m[\u001b[0m\u001b[0;34m'.'\u001b[0m\u001b[0;34m]\u001b[0m \u001b[0;34m*\u001b[0m \u001b[0mself\u001b[0m\u001b[0;34m.\u001b[0m\u001b[0mn_columns\u001b[0m \u001b[0;32mfor\u001b[0m \u001b[0mi\u001b[0m \u001b[0;32min\u001b[0m \u001b[0mrange\u001b[0m\u001b[0;34m(\u001b[0m\u001b[0mself\u001b[0m\u001b[0;34m.\u001b[0m\u001b[0mn_rows\u001b[0m\u001b[0;34m)\u001b[0m\u001b[0;34m]\u001b[0m\u001b[0;34m\u001b[0m\u001b[0;34m\u001b[0m\u001b[0m\n",
      "\u001b[0;32m/opt/anaconda3/lib/python3.8/site-packages/traitlets/traitlets.py\u001b[0m in \u001b[0;36m__set__\u001b[0;34m(self, obj, value)\u001b[0m\n\u001b[1;32m    602\u001b[0m             \u001b[0;32mraise\u001b[0m \u001b[0mTraitError\u001b[0m\u001b[0;34m(\u001b[0m\u001b[0;34m'The \"%s\" trait is read-only.'\u001b[0m \u001b[0;34m%\u001b[0m \u001b[0mself\u001b[0m\u001b[0;34m.\u001b[0m\u001b[0mname\u001b[0m\u001b[0;34m)\u001b[0m\u001b[0;34m\u001b[0m\u001b[0;34m\u001b[0m\u001b[0m\n\u001b[1;32m    603\u001b[0m         \u001b[0;32melse\u001b[0m\u001b[0;34m:\u001b[0m\u001b[0;34m\u001b[0m\u001b[0;34m\u001b[0m\u001b[0m\n\u001b[0;32m--> 604\u001b[0;31m             \u001b[0mself\u001b[0m\u001b[0;34m.\u001b[0m\u001b[0mset\u001b[0m\u001b[0;34m(\u001b[0m\u001b[0mobj\u001b[0m\u001b[0;34m,\u001b[0m \u001b[0mvalue\u001b[0m\u001b[0;34m)\u001b[0m\u001b[0;34m\u001b[0m\u001b[0;34m\u001b[0m\u001b[0m\n\u001b[0m\u001b[1;32m    605\u001b[0m \u001b[0;34m\u001b[0m\u001b[0m\n\u001b[1;32m    606\u001b[0m     \u001b[0;32mdef\u001b[0m \u001b[0m_validate\u001b[0m\u001b[0;34m(\u001b[0m\u001b[0mself\u001b[0m\u001b[0;34m,\u001b[0m \u001b[0mobj\u001b[0m\u001b[0;34m,\u001b[0m \u001b[0mvalue\u001b[0m\u001b[0;34m)\u001b[0m\u001b[0;34m:\u001b[0m\u001b[0;34m\u001b[0m\u001b[0;34m\u001b[0m\u001b[0m\n",
      "\u001b[0;32m/opt/anaconda3/lib/python3.8/site-packages/traitlets/traitlets.py\u001b[0m in \u001b[0;36mset\u001b[0;34m(self, obj, value)\u001b[0m\n\u001b[1;32m    576\u001b[0m \u001b[0;34m\u001b[0m\u001b[0m\n\u001b[1;32m    577\u001b[0m     \u001b[0;32mdef\u001b[0m \u001b[0mset\u001b[0m\u001b[0;34m(\u001b[0m\u001b[0mself\u001b[0m\u001b[0;34m,\u001b[0m \u001b[0mobj\u001b[0m\u001b[0;34m,\u001b[0m \u001b[0mvalue\u001b[0m\u001b[0;34m)\u001b[0m\u001b[0;34m:\u001b[0m\u001b[0;34m\u001b[0m\u001b[0;34m\u001b[0m\u001b[0m\n\u001b[0;32m--> 578\u001b[0;31m         \u001b[0mnew_value\u001b[0m \u001b[0;34m=\u001b[0m \u001b[0mself\u001b[0m\u001b[0;34m.\u001b[0m\u001b[0m_validate\u001b[0m\u001b[0;34m(\u001b[0m\u001b[0mobj\u001b[0m\u001b[0;34m,\u001b[0m \u001b[0mvalue\u001b[0m\u001b[0;34m)\u001b[0m\u001b[0;34m\u001b[0m\u001b[0;34m\u001b[0m\u001b[0m\n\u001b[0m\u001b[1;32m    579\u001b[0m         \u001b[0;32mtry\u001b[0m\u001b[0;34m:\u001b[0m\u001b[0;34m\u001b[0m\u001b[0;34m\u001b[0m\u001b[0m\n\u001b[1;32m    580\u001b[0m             \u001b[0mold_value\u001b[0m \u001b[0;34m=\u001b[0m \u001b[0mobj\u001b[0m\u001b[0;34m.\u001b[0m\u001b[0m_trait_values\u001b[0m\u001b[0;34m[\u001b[0m\u001b[0mself\u001b[0m\u001b[0;34m.\u001b[0m\u001b[0mname\u001b[0m\u001b[0;34m]\u001b[0m\u001b[0;34m\u001b[0m\u001b[0;34m\u001b[0m\u001b[0m\n",
      "\u001b[0;32m/opt/anaconda3/lib/python3.8/site-packages/traitlets/traitlets.py\u001b[0m in \u001b[0;36m_validate\u001b[0;34m(self, obj, value)\u001b[0m\n\u001b[1;32m    610\u001b[0m             \u001b[0mvalue\u001b[0m \u001b[0;34m=\u001b[0m \u001b[0mself\u001b[0m\u001b[0;34m.\u001b[0m\u001b[0mvalidate\u001b[0m\u001b[0;34m(\u001b[0m\u001b[0mobj\u001b[0m\u001b[0;34m,\u001b[0m \u001b[0mvalue\u001b[0m\u001b[0;34m)\u001b[0m\u001b[0;34m\u001b[0m\u001b[0;34m\u001b[0m\u001b[0m\n\u001b[1;32m    611\u001b[0m         \u001b[0;32mif\u001b[0m \u001b[0mobj\u001b[0m\u001b[0;34m.\u001b[0m\u001b[0m_cross_validation_lock\u001b[0m \u001b[0;32mis\u001b[0m \u001b[0;32mFalse\u001b[0m\u001b[0;34m:\u001b[0m\u001b[0;34m\u001b[0m\u001b[0;34m\u001b[0m\u001b[0m\n\u001b[0;32m--> 612\u001b[0;31m             \u001b[0mvalue\u001b[0m \u001b[0;34m=\u001b[0m \u001b[0mself\u001b[0m\u001b[0;34m.\u001b[0m\u001b[0m_cross_validate\u001b[0m\u001b[0;34m(\u001b[0m\u001b[0mobj\u001b[0m\u001b[0;34m,\u001b[0m \u001b[0mvalue\u001b[0m\u001b[0;34m)\u001b[0m\u001b[0;34m\u001b[0m\u001b[0;34m\u001b[0m\u001b[0m\n\u001b[0m\u001b[1;32m    613\u001b[0m         \u001b[0;32mreturn\u001b[0m \u001b[0mvalue\u001b[0m\u001b[0;34m\u001b[0m\u001b[0;34m\u001b[0m\u001b[0m\n\u001b[1;32m    614\u001b[0m \u001b[0;34m\u001b[0m\u001b[0m\n",
      "\u001b[0;32m/opt/anaconda3/lib/python3.8/site-packages/traitlets/traitlets.py\u001b[0m in \u001b[0;36m_cross_validate\u001b[0;34m(self, obj, value)\u001b[0m\n\u001b[1;32m    616\u001b[0m         \u001b[0;32mif\u001b[0m \u001b[0mself\u001b[0m\u001b[0;34m.\u001b[0m\u001b[0mname\u001b[0m \u001b[0;32min\u001b[0m \u001b[0mobj\u001b[0m\u001b[0;34m.\u001b[0m\u001b[0m_trait_validators\u001b[0m\u001b[0;34m:\u001b[0m\u001b[0;34m\u001b[0m\u001b[0;34m\u001b[0m\u001b[0m\n\u001b[1;32m    617\u001b[0m             \u001b[0mproposal\u001b[0m \u001b[0;34m=\u001b[0m \u001b[0mBunch\u001b[0m\u001b[0;34m(\u001b[0m\u001b[0;34m{\u001b[0m\u001b[0;34m'trait'\u001b[0m\u001b[0;34m:\u001b[0m \u001b[0mself\u001b[0m\u001b[0;34m,\u001b[0m \u001b[0;34m'value'\u001b[0m\u001b[0;34m:\u001b[0m \u001b[0mvalue\u001b[0m\u001b[0;34m,\u001b[0m \u001b[0;34m'owner'\u001b[0m\u001b[0;34m:\u001b[0m \u001b[0mobj\u001b[0m\u001b[0;34m}\u001b[0m\u001b[0;34m)\u001b[0m\u001b[0;34m\u001b[0m\u001b[0;34m\u001b[0m\u001b[0m\n\u001b[0;32m--> 618\u001b[0;31m             \u001b[0mvalue\u001b[0m \u001b[0;34m=\u001b[0m \u001b[0mobj\u001b[0m\u001b[0;34m.\u001b[0m\u001b[0m_trait_validators\u001b[0m\u001b[0;34m[\u001b[0m\u001b[0mself\u001b[0m\u001b[0;34m.\u001b[0m\u001b[0mname\u001b[0m\u001b[0;34m]\u001b[0m\u001b[0;34m(\u001b[0m\u001b[0mobj\u001b[0m\u001b[0;34m,\u001b[0m \u001b[0mproposal\u001b[0m\u001b[0;34m)\u001b[0m\u001b[0;34m\u001b[0m\u001b[0;34m\u001b[0m\u001b[0m\n\u001b[0m\u001b[1;32m    619\u001b[0m         \u001b[0;32melif\u001b[0m \u001b[0mhasattr\u001b[0m\u001b[0;34m(\u001b[0m\u001b[0mobj\u001b[0m\u001b[0;34m,\u001b[0m \u001b[0;34m'_%s_validate'\u001b[0m \u001b[0;34m%\u001b[0m \u001b[0mself\u001b[0m\u001b[0;34m.\u001b[0m\u001b[0mname\u001b[0m\u001b[0;34m)\u001b[0m\u001b[0;34m:\u001b[0m\u001b[0;34m\u001b[0m\u001b[0;34m\u001b[0m\u001b[0m\n\u001b[1;32m    620\u001b[0m             \u001b[0mmeth_name\u001b[0m \u001b[0;34m=\u001b[0m \u001b[0;34m'_%s_validate'\u001b[0m \u001b[0;34m%\u001b[0m \u001b[0mself\u001b[0m\u001b[0;34m.\u001b[0m\u001b[0mname\u001b[0m\u001b[0;34m\u001b[0m\u001b[0;34m\u001b[0m\u001b[0m\n",
      "\u001b[0;32m/opt/anaconda3/lib/python3.8/site-packages/traitlets/traitlets.py\u001b[0m in \u001b[0;36m__call__\u001b[0;34m(self, *args, **kwargs)\u001b[0m\n\u001b[1;32m    973\u001b[0m         \u001b[0;34m\"\"\"Pass `*args` and `**kwargs` to the handler's function if it exists.\"\"\"\u001b[0m\u001b[0;34m\u001b[0m\u001b[0;34m\u001b[0m\u001b[0m\n\u001b[1;32m    974\u001b[0m         \u001b[0;32mif\u001b[0m \u001b[0mhasattr\u001b[0m\u001b[0;34m(\u001b[0m\u001b[0mself\u001b[0m\u001b[0;34m,\u001b[0m \u001b[0;34m'func'\u001b[0m\u001b[0;34m)\u001b[0m\u001b[0;34m:\u001b[0m\u001b[0;34m\u001b[0m\u001b[0;34m\u001b[0m\u001b[0m\n\u001b[0;32m--> 975\u001b[0;31m             \u001b[0;32mreturn\u001b[0m \u001b[0mself\u001b[0m\u001b[0;34m.\u001b[0m\u001b[0mfunc\u001b[0m\u001b[0;34m(\u001b[0m\u001b[0;34m*\u001b[0m\u001b[0margs\u001b[0m\u001b[0;34m,\u001b[0m \u001b[0;34m**\u001b[0m\u001b[0mkwargs\u001b[0m\u001b[0;34m)\u001b[0m\u001b[0;34m\u001b[0m\u001b[0;34m\u001b[0m\u001b[0m\n\u001b[0m\u001b[1;32m    976\u001b[0m         \u001b[0;32melse\u001b[0m\u001b[0;34m:\u001b[0m\u001b[0;34m\u001b[0m\u001b[0;34m\u001b[0m\u001b[0m\n\u001b[1;32m    977\u001b[0m             \u001b[0;32mreturn\u001b[0m \u001b[0mself\u001b[0m\u001b[0;34m.\u001b[0m\u001b[0m_init_call\u001b[0m\u001b[0;34m(\u001b[0m\u001b[0;34m*\u001b[0m\u001b[0margs\u001b[0m\u001b[0;34m,\u001b[0m \u001b[0;34m**\u001b[0m\u001b[0mkwargs\u001b[0m\u001b[0;34m)\u001b[0m\u001b[0;34m\u001b[0m\u001b[0;34m\u001b[0m\u001b[0m\n",
      "\u001b[0;32m/opt/anaconda3/lib/python3.8/site-packages/ipywidgets/widgets/widget_templates.py\u001b[0m in \u001b[0;36m_validate_integer\u001b[0;34m(self, proposal)\u001b[0m\n\u001b[1;32m    293\u001b[0m         \u001b[0;32mif\u001b[0m \u001b[0mproposal\u001b[0m\u001b[0;34m[\u001b[0m\u001b[0;34m'value'\u001b[0m\u001b[0;34m]\u001b[0m \u001b[0;34m>\u001b[0m \u001b[0;36m0\u001b[0m\u001b[0;34m:\u001b[0m\u001b[0;34m\u001b[0m\u001b[0;34m\u001b[0m\u001b[0m\n\u001b[1;32m    294\u001b[0m             \u001b[0;32mreturn\u001b[0m \u001b[0mproposal\u001b[0m\u001b[0;34m[\u001b[0m\u001b[0;34m'value'\u001b[0m\u001b[0;34m]\u001b[0m\u001b[0;34m\u001b[0m\u001b[0;34m\u001b[0m\u001b[0m\n\u001b[0;32m--> 295\u001b[0;31m         \u001b[0;32mraise\u001b[0m \u001b[0mTraitError\u001b[0m\u001b[0;34m(\u001b[0m\u001b[0;34m'n_rows and n_columns must be positive integer'\u001b[0m\u001b[0;34m)\u001b[0m\u001b[0;34m\u001b[0m\u001b[0;34m\u001b[0m\u001b[0m\n\u001b[0m\u001b[1;32m    296\u001b[0m \u001b[0;34m\u001b[0m\u001b[0m\n\u001b[1;32m    297\u001b[0m     \u001b[0;32mdef\u001b[0m \u001b[0m_get_indices_from_slice\u001b[0m\u001b[0;34m(\u001b[0m\u001b[0mself\u001b[0m\u001b[0;34m,\u001b[0m \u001b[0mrow\u001b[0m\u001b[0;34m,\u001b[0m \u001b[0mcolumn\u001b[0m\u001b[0;34m)\u001b[0m\u001b[0;34m:\u001b[0m\u001b[0;34m\u001b[0m\u001b[0;34m\u001b[0m\u001b[0m\n",
      "\u001b[0;31mTraitError\u001b[0m: n_rows and n_columns must be positive integer"
     ]
    }
   ],
   "source": [
    "from pandas_profiling import ProfileReport\n",
    "\n",
    "profile = ProfileReport(df, title='Pandas Profiling Report', explorative=True)\n",
    "\n",
    "profile.to_widgets()"
   ]
  },
  {
   "cell_type": "code",
   "execution_count": 130,
   "id": "5e863fb9",
   "metadata": {},
   "outputs": [
    {
     "data": {
      "application/vnd.jupyter.widget-view+json": {
       "model_id": "792c8aa0d4f240ff811649d3001473db",
       "version_major": 2,
       "version_minor": 0
      },
      "text/plain": [
       "                                             |          | [  0%]   00:00 -> (? left)"
      ]
     },
     "metadata": {},
     "output_type": "display_data"
    },
    {
     "name": "stdout",
     "output_type": "stream",
     "text": [
      "Report Bankruptcy.html was generated! NOTEBOOK/COLAB USERS: the web browser MAY not pop up, regardless, the report IS saved in your notebook/colab files.\n"
     ]
    }
   ],
   "source": [
    "# Print 'EDA output in local default drive'\n",
    "temp_report = sv.analyze(df)\n",
    "#display the report\n",
    "temp_report.show_html('Bankruptcy.html')"
   ]
  },
  {
   "cell_type": "code",
   "execution_count": 12,
   "id": "e6a4e6ba",
   "metadata": {},
   "outputs": [],
   "source": [
    "#Define Input and Output\n",
    "\n",
    "y = df_model['class']\n",
    "X = df_model.loc[:, df_model.columns!='class']\n"
   ]
  },
  {
   "cell_type": "markdown",
   "id": "141f7252",
   "metadata": {},
   "source": [
    "# Modeling Preparations:\n",
    "\n",
    "With Random Forest, we used feature selection during EDA to identify the top 20 most influential features in our model preparation. Two exemplary preparation methods. The first step is to use Random Forests to establish a model performance baseline. We then used Cross-Validation for model selection. We used Cross-Validation with shuffle-split because our data is very unbalanced. We are using the precision score of these models to determine which one has a higher classification performance. After rigorous experimentation with the hyperparameters in Random Forest and Cross-Validation, we determined that Random Forest provided the highest precision score, and the performance increased as the maximum depth increased. The higher classification precision demonstrated by Random-Forest makes it more suitable to predict companies’ bankruptcies in this dataset.\n",
    "\n",
    "We configured XGBoost with three different sets of parameters. In Option 2 we increased the max_dept from 6 to 10, which increased the score performance, colsample_bytree and subsample were lowered from 1, the default to 0.6 to improve the overfitting."
   ]
  },
  {
   "cell_type": "markdown",
   "id": "fd1cbc2b",
   "metadata": {},
   "source": [
    "### Fearture Selection for Random Forest Model"
   ]
  },
  {
   "cell_type": "markdown",
   "id": "154d99e2",
   "metadata": {},
   "source": [
    "#### Gini Criterion:"
   ]
  },
  {
   "cell_type": "code",
   "execution_count": 14,
   "id": "7a3502cf",
   "metadata": {},
   "outputs": [],
   "source": [
    "# Create Random Forest Model using Gini criterion for feature selection\n",
    "rf_model_gini = rf(n_estimators = 50, criterion = 'gini', max_features = 'auto', max_depth = 10)\n",
    "\n",
    "rf_model_gini.fit(X,y)\n",
    "start_time = time.time()\n",
    "importances = rf_model_gini.feature_importances_\n",
    "std = np.std([tree.feature_importances_ for tree in rf_model_gini.estimators_], axis=0)\n",
    "elapsed_time = time.time() - start_time\n",
    "\n",
    "feature_names = [f\"feature {i}\" for i in range(X.shape[1])]"
   ]
  },
  {
   "cell_type": "code",
   "execution_count": 18,
   "id": "5427d6eb",
   "metadata": {},
   "outputs": [
    {
     "data": {
      "image/png": "[encoded data removed]",
      "text/plain": [
       "<Figure size 432x288 with 1 Axes>"
      ]
     },
     "metadata": {},
     "output_type": "display_data"
    }
   ],
   "source": [
    "forest_importances = pd.Series(importances, index=feature_names)\n",
    "\n",
    "fig, ax = plt.subplots()\n",
    "forest_importances.plot.bar(yerr=std, ax=ax)\n",
    "ax.set_title(\"Feature importances - Random Forest Gini Criterion\")\n",
    "ax.set_ylabel(\"Mean decrease in impurity\")\n",
    "fig.tight_layout()"
   ]
  },
  {
   "cell_type": "code",
   "execution_count": 19,
   "id": "60cfa6ba",
   "metadata": {},
   "outputs": [
    {
     "name": "stdout",
     "output_type": "stream",
     "text": [
      "20 most important features: [26, 33, 45, 57, 23, 55, 34, 8, 28, 38, 21, 41, 5, 40, 4, 25, 39, 43, 12, 15]\n"
     ]
    }
   ],
   "source": [
    "# Top 20 Features of Random Forest Models\n",
    "important_features_dict = {}\n",
    "for idx, val in enumerate(rf_model_gini.feature_importances_):\n",
    "    important_features_dict[idx] = val\n",
    "\n",
    "important_features_list = sorted(important_features_dict,\n",
    "                                 key=important_features_dict.get,\n",
    "                                 reverse=True)\n",
    "\n",
    "print(f'20 most important features: {important_features_list[:20]}')"
   ]
  },
  {
   "cell_type": "code",
   "execution_count": 20,
   "id": "ca47bb10",
   "metadata": {},
   "outputs": [],
   "source": [
    "top_20_gini_rf = X[['Attr4','Attr5','Attr8','Attr15','Attr23','Attr25','Attr26','Attr28','Attr33','Attr34','Attr38','Attr39','Attr40','Attr41','Attr43', 'Attr45','Attr54','Attr55','Attr57', 'Attr60']]"
   ]
  },
  {
   "cell_type": "markdown",
   "id": "6a241914",
   "metadata": {},
   "source": [
    "**Visualize Top 20 Features based Gini Criterion:**"
   ]
  },
  {
   "cell_type": "code",
   "execution_count": 28,
   "id": "002f4203",
   "metadata": {},
   "outputs": [],
   "source": [
    "# Define Random Forest Gini Criterion for Top 20 Features\n",
    "\n",
    "rf_model_gini_20 = rf(n_estimators = 50, criterion = 'gini', max_features = 'auto', max_depth = 10)\n",
    "rf_model_gini_20.fit(top_20_gini_rf,y)\n",
    "\n",
    "start_time = time.time()\n",
    "importances = rf_model_gini_20.feature_importances_\n",
    "std = np.std([tree.feature_importances_ for tree in rf_model_gini_20.estimators_], axis=0)\n",
    "elapsed_time = time.time() - start_time\n",
    "\n",
    "feature_names = [f\"feature {i}\" for i in range(top_20_gini_rf.shape[1])]"
   ]
  },
  {
   "cell_type": "code",
   "execution_count": 29,
   "id": "39cebb3b",
   "metadata": {},
   "outputs": [
    {
     "data": {
      "image/png": "[encoded data removed]",
      "text/plain": [
       "<Figure size 432x288 with 1 Axes>"
      ]
     },
     "metadata": {},
     "output_type": "display_data"
    }
   ],
   "source": [
    "# Define Feature Importance \n",
    "\n",
    "forest_importances = pd.Series(importances, index=feature_names)\n",
    "\n",
    "fig, ax = plt.subplots()\n",
    "forest_importances.plot.bar(yerr=std, ax=ax)\n",
    "ax.set_title(\"Feature importances - Random Forest (Entropy)\")\n",
    "ax.set_ylabel(\"Mean decrease in impurity\")\n",
    "fig.tight_layout()"
   ]
  },
  {
   "cell_type": "markdown",
   "id": "ec8d2074",
   "metadata": {},
   "source": [
    "#### The following features are the top features using Random Forest Gini criterion:\n",
    "\n",
    "current assets / short-term liabilities\n",
    "\n",
    "[(cash + short-term securities + receivables - short-term liabilities) / (operating expenses - depreciation)] * 365\n",
    "\n",
    "book value of equity / total liabilities\n",
    "\n",
    "**(total liabilities * 365) / (gross profit + depreciation)**\n",
    "\n",
    "net profit / sales\n",
    "\n",
    "(equity - share capital) / total assets\n",
    "\n",
    "(net profit + depreciation) / total liabilities\n",
    "\n",
    "working capital / fixed assets\n",
    "\n",
    "operating expenses / short-term liabilities\n",
    "\n",
    "operating expenses / total liabilities\n",
    "\n",
    "constant capital / total assets\n",
    "\n",
    "**profit on sales / sales**\n",
    "\n",
    "(current assets - inventory - receivables) / short-term liabilities\n",
    "\n",
    "**total liabilities / ((profit on operating activities + depreciation) * (12/365))**\n",
    "\n",
    "rotation receivables + inventory turnover in days\n",
    "\n",
    "net profit / inventory\n",
    "\n",
    "constant capital / fixed assets\n",
    "\n",
    "working capital\n",
    "\n",
    "(current assets - inventory - short-term liabilities) / (sales - gross profit - depreciation)\n",
    "\n",
    "sales / inventory\n",
    "\n",
    "**NOTE : bolded features are most important features for the model**"
   ]
  },
  {
   "cell_type": "markdown",
   "id": "72625fc9",
   "metadata": {},
   "source": [
    "### Random Forest - Entropy"
   ]
  },
  {
   "cell_type": "code",
   "execution_count": 30,
   "id": "7e1aeb87",
   "metadata": {},
   "outputs": [],
   "source": [
    "# Create Random Forest Model using Entropy criterion for feature selection\n",
    "\n",
    "import time\n",
    "import numpy as np\n",
    "from sklearn.ensemble import RandomForestClassifier as rf\n",
    "\n",
    "rf_model_entropy = rf(n_estimators = 50, criterion = 'entropy', max_features = 'auto', max_depth = 10)\n",
    "rf_model_entropy.fit(X,y)\n",
    "start_time = time.time()\n",
    "importances = rf_model_entropy.feature_importances_\n",
    "std = np.std([tree.feature_importances_ for tree in rf_model_entropy.estimators_], axis=0)\n",
    "elapsed_time = time.time() - start_time\n",
    "\n",
    "feature_names = [f\"feature {i}\" for i in range(X.shape[1])]"
   ]
  },
  {
   "cell_type": "code",
   "execution_count": 31,
   "id": "f4bafbc7",
   "metadata": {},
   "outputs": [
    {
     "data": {
      "image/png": "[encoded data removed]",
      "text/plain": [
       "<Figure size 432x288 with 1 Axes>"
      ]
     },
     "metadata": {},
     "output_type": "display_data"
    }
   ],
   "source": [
    "import pandas as pd\n",
    "\n",
    "forest_importances = pd.Series(importances, index=feature_names)\n",
    "\n",
    "fig, ax = plt.subplots()\n",
    "forest_importances.plot.bar(yerr=std, ax=ax)\n",
    "ax.set_title(\"Feature importances - Random Forest Using Entropy Criterion\")\n",
    "ax.set_ylabel(\"Mean decrease in impurity\")\n",
    "fig.tight_layout()"
   ]
  },
  {
   "cell_type": "code",
   "execution_count": 32,
   "id": "03be71d6",
   "metadata": {},
   "outputs": [
    {
     "name": "stdout",
     "output_type": "stream",
     "text": [
      "20 most important features: [26, 23, 33, 45, 15, 57, 25, 34, 5, 55, 38, 8, 14, 4, 12, 41, 28, 21, 40, 24]\n"
     ]
    }
   ],
   "source": [
    "# Top 20 Features of Random Forest Models\n",
    "important_features_dict = {}\n",
    "for idx, val in enumerate(rf_model_entropy.feature_importances_):\n",
    "    important_features_dict[idx] = val\n",
    "\n",
    "important_features_list = sorted(important_features_dict,\n",
    "                                 key=important_features_dict.get,\n",
    "                                 reverse=True)\n",
    "\n",
    "print(f'20 most important features: {important_features_list[:20]}')\n"
   ]
  },
  {
   "cell_type": "code",
   "execution_count": 33,
   "id": "ab66cb5b",
   "metadata": {},
   "outputs": [],
   "source": [
    "top_20_entropy_rf = X[['Attr4','Attr5','Attr8','Attr15','Attr23','Attr25','Attr26','Attr28','Attr33','Attr34','Attr38','Attr40','Attr41','Attr45','Attr55','Attr57', 'Attr12', 'Attr21', 'Attr24', 'Attr37']]"
   ]
  },
  {
   "cell_type": "markdown",
   "id": "640b7f22",
   "metadata": {},
   "source": [
    "**Visualize Top 20 Features based Entropy Criterion:**"
   ]
  },
  {
   "cell_type": "code",
   "execution_count": 34,
   "id": "4345734e",
   "metadata": {},
   "outputs": [],
   "source": [
    "# Create Random Forest Model using Entropy criterion for feature selection\n",
    "\n",
    "rf_model_entropy_20 = rf(n_estimators = 50, criterion = 'entropy', max_features = 'auto', max_depth = 10)\n",
    "\n",
    "rf_model_entropy_20.fit(top_20_entropy_rf,y)\n",
    "\n",
    "start_time = time.time()\n",
    "importances = rf_model_entropy_20.feature_importances_\n",
    "std = np.std([tree.feature_importances_ for tree in rf_model_entropy_20.estimators_], axis=0)\n",
    "elapsed_time = time.time() - start_time\n",
    "\n",
    "feature_names = [f\"feature {i}\" for i in range(top_20_entropy_rf.shape[1])]"
   ]
  },
  {
   "cell_type": "code",
   "execution_count": 35,
   "id": "d14aa134",
   "metadata": {},
   "outputs": [
    {
     "data": {
      "image/png": "[encoded data removed]",
      "text/plain": [
       "<Figure size 432x288 with 1 Axes>"
      ]
     },
     "metadata": {},
     "output_type": "display_data"
    }
   ],
   "source": [
    "import pandas as pd\n",
    "\n",
    "forest_importances = pd.Series(importances, index=feature_names)\n",
    "\n",
    "fig, ax = plt.subplots()\n",
    "forest_importances.plot.bar(yerr=std, ax=ax)\n",
    "ax.set_title(\"Feature importances using Random Forest - Entropy\")\n",
    "ax.set_ylabel(\"Mean decrease in impurity\")\n",
    "fig.tight_layout()"
   ]
  },
  {
   "cell_type": "markdown",
   "id": "18bb203c",
   "metadata": {},
   "source": [
    "#### The following features are the top features using Random Forest entropy criterion:\n",
    "\n",
    "current assets / short-term liabilities\n",
    "\n",
    "[(cash + short-term securities + receivables - short-term liabilities) / (operating expenses - depreciation)] * 365\n",
    "\n",
    "book value of equity / total liabilities\n",
    "\n",
    "gross profit / short-term liabilities\n",
    "\n",
    "(total liabilities * 365) / (gross profit + depreciation)\n",
    "\n",
    "sales (n) / sales (n-1)\n",
    "\n",
    "**net profit / sales**\n",
    "\n",
    "gross profit (in 3 years) / total assets\n",
    "\n",
    "(equity - share capital) / total assets\n",
    "\n",
    "(net profit + depreciation) / total liabilities\n",
    "\n",
    "working capital / fixed assets\n",
    "\n",
    "operating expenses / short-term liabilities\n",
    "\n",
    "operating expenses / total liabilities\n",
    "\n",
    "(current assets - inventories) / long-term liabilities\n",
    "\n",
    "constant capital / total assets\n",
    "\n",
    "profit on sales / sales\n",
    "\n",
    "(current assets - inventory - receivables) / short-term liabilities\n",
    "\n",
    "total liabilities / ((profit on operating activities + depreciation) * (12/365))\n",
    "\n",
    "**working capital**\n",
    "\n",
    "(current assets - inventory - short-term liabilities) / (sales - gross profit - depreciation)\n",
    "\n",
    "\n",
    "**NOTE : bolded features are most important features for the model**"
   ]
  },
  {
   "cell_type": "markdown",
   "id": "2205f6c7",
   "metadata": {},
   "source": [
    "### Feature Selection Using XGBoost"
   ]
  },
  {
   "cell_type": "code",
   "execution_count": 42,
   "id": "49adbfef",
   "metadata": {},
   "outputs": [
    {
     "name": "stdout",
     "output_type": "stream",
     "text": [
      "[20:25:21] WARNING: /opt/concourse/worker/volumes/live/7a2b9f41-3287-451b-6691-43e9a6c0910f/volume/xgboost-split_1619728204606/work/src/learner.cc:1061: Starting in XGBoost 1.3.0, the default evaluation metric used with the objective 'binary:logistic' was changed from 'error' to 'logloss'. Explicitly set eval_metric if you'd like to restore the old behavior.\n",
      "[0.00620563 0.00436595 0.01797446 0.01742199 0.03759385 0.03390628\n",
      " 0.01149845 0.01022573 0.00998614 0.00716161 0.01297371 0.00523306\n",
      " 0.02169521 0.         0.00747177 0.00929813 0.0036606  0.00479954\n",
      " 0.01983963 0.01853355 0.0179518  0.01971488 0.00791189 0.01463925\n",
      " 0.01626234 0.09279275 0.03342793 0.00726809 0.01087616 0.01242976\n",
      " 0.00783914 0.01409328 0.01672684 0.059732   0.02267195 0.01023163\n",
      " 0.00760813 0.01500567 0.0231678  0.01412482 0.01916288 0.0240935\n",
      " 0.00631438 0.03396486 0.00755013 0.0196184  0.01311134 0.01209641\n",
      " 0.00912385 0.00879185 0.00904724 0.00782751 0.00889928 0.00958802\n",
      " 0.010488   0.03246421 0.00643359 0.02423917 0.00728248 0.00622062\n",
      " 0.01297913 0.00684479 0.01129975 0.00823723]\n"
     ]
    },
    {
     "data": {
      "image/png": "[encoded data removed]",
      "text/plain": [
       "<Figure size 432x288 with 1 Axes>"
      ]
     },
     "metadata": {},
     "output_type": "display_data"
    }
   ],
   "source": [
    "# plot feature importance manually\n",
    "from numpy import loadtxt\n",
    "from xgboost import XGBClassifier\n",
    "from matplotlib import pyplot\n",
    "\n",
    "\n",
    "model = XGBClassifier()\n",
    "model.fit(X, y)\n",
    "# feature importance\n",
    "print(model.feature_importances_)\n",
    "# plot\n",
    "pyplot.bar(range(len(model.feature_importances_)), model.feature_importances_)\n",
    "pyplot.show()\n"
   ]
  },
  {
   "cell_type": "markdown",
   "id": "723bb113",
   "metadata": {},
   "source": [
    "Using 0.02 as threshold, the following are the top features for XGBoost model:\n",
    "\n",
    "5 - [(cash + short-term securities + receivables - short-term liabilities) / (operating expenses - depreciation)] * 365\n",
    "\n",
    "6 - retained earnings / total assets\n",
    "\n",
    "13 - (gross profit + depreciation) / sales\n",
    "\n",
    "**26 - (net profit + depreciation) / total liabilities** -> Primary driver  \n",
    "\n",
    "27 - profit on operating activities / financial expenses\n",
    "\n",
    "34 - operating expenses / total liabilities\n",
    "\n",
    "35 - profit on sales / total assets\n",
    "\n",
    "39 - profit on sales / sales\n",
    "\n",
    "42 - profit on operating activities / sales\n",
    "\n",
    "44 - (receivables * 365) / sales\n",
    "\n",
    "56 - (sales - cost of products sold) / sales\n",
    "\n",
    "58 - total costs /total sales"
   ]
  },
  {
   "cell_type": "markdown",
   "id": "2967f3c3",
   "metadata": {},
   "source": [
    "# Model Building"
   ]
  },
  {
   "cell_type": "markdown",
   "id": "c9a661f2",
   "metadata": {},
   "source": [
    "The primary goal of this study is to build a Random Forest and an XGBoost model to predict bankruptcy accurately and will involve the following steps: Specify in the sample, the model analysis, and performance.\n",
    "The target variable for this dataset is the “class” variable for which the sub-class group is “0” which is companies not going bankrupt, and “1” for companies going bankrupt. As seen from the EDA process, 95% of the target response are companies that are not going bankrupt, while 0.05% are companies that are likely to go bankrupt. Based on this information, the task here is to use two modeling techniques to classy which of the two classes a company is likely to be classified bankrupt or not. \n",
    "\n",
    "The first step is to do a feature selection using Random Forest. This was done using the Gini and Entropy criteria. The two criteria used 50 estimators and a maximum depth of 10 to select the best features for onward analysis. The top 20 were sorted, and these are seen below in the notebook output. On the other hand, the entropy technique also gave a different output compared to that of the Gini approach. A 0.02 threshold was set for the top 20 features with their outcome in the cell below. The two were cross-referenced to weigh similarities. The differences were not that wide.\n",
    "\n",
    "On using the XGBoost technique, the feature selection was made, and the output was analyzed. The output was compared to that of Random Forest. A 0.02 threshold was set for the top 20 features with their outcome in the cell below. This was also not significantly different from the random forest. The outcomes from the random forest were used for the onward model building.\n",
    "\n",
    "**Scaling the dataset**\n",
    "\n",
    "Given the data as learned from the EDA is heavily skewed, the data from the selected features to be used for model building were scaled using the Robust Scaler from sklearn. This centralizes the distribution of the dataset to have some type of balance within the dataset. An 80% - 20% train-test- split was used to split the selected features from the random forest output to build a comparative model.\n",
    "An iterative search was done on the Random Forest model to find the sweet spot for models’ performance to not underfit or not overfit when choosing the max depth. It was seen that the best estimators fall between 10 and 20, for which 15 maximum depths will be used for final model building using cross-validation. It is worth noting that the deeper the tree, performance increases; hence the model tends to overfit; it is for this reason that 15 was chosen.\n",
    "We then proceed with these chosen parameters for the Random Forest analysis to compare the XGBoost with.\n",
    "\n",
    "On using XGBoost, the default values for maximum depth of 6 were used and also for subsample = 1, colsample = 1, n_estimtors = 100 all were used as a baseline to measure model performance. It was realized that the baseline model though, gave a 98.79%, the best performance for this approach was option number 2 with the highest performance at 98.80% that has maximum depth of 10 was used and also for subsample = 0.6, colsample = 0.6, n_estimtors = 50. This was because when you increase the depth, the performance suffers with the default values for subsmaple, colsample and number estimators hence these have to be reduced. This improves overfitting. \n",
    " On the other hand, when tested with a maximum depth when the opposite is done by reducing the maximum depth and increasing subsample and colsample, the performance dips to 97.49% and number of estimators at 150.\n",
    "The best-performing parameters are then chosen for the XGBoost model to compare with the Random Forest model while varying the learning rate. A n iteration was done on the learning rate was analyzed in the range of (0.01, 0.1, 0.2, 0.3, 0.4, 0.7). From these ranges, the best approach was with 0.01 learning rate. This was preferred because, learning rate determines the step of each iteration while the model optimizes toward the objective. This means that a lower learning rate reduces the computational power required to achieve the lower rate computations, thereby reducing the residual error while optimizing the chance of the model reaching its best performance.  \n",
    "\n",
    "In comparison, random forest accuracy was 95%, and that for XGBoost is 97%. That said, XGBoost is the preferred model of choice to analysis predict if a company is likely to file for bankruptcy or not."
   ]
  },
  {
   "cell_type": "markdown",
   "id": "d3efff0e",
   "metadata": {},
   "source": [
    "### Random Forest (Not Scaled)"
   ]
  },
  {
   "cell_type": "markdown",
   "id": "9aaa4ae4",
   "metadata": {},
   "source": [
    "Increasing learing rate, n_estimator, subsample, and max depth produce accuracy rate close to 1. That means the model may overfit the data which we are trying to avoid. \n",
    "\n",
    "Source: https://medium.com/towards-data-science/xgboost-fine-tune-and-optimize-your-model-23d996fab663"
   ]
  },
  {
   "cell_type": "markdown",
   "id": "0be9e6ad",
   "metadata": {},
   "source": [
    "## Model Building (Scaled)"
   ]
  },
  {
   "cell_type": "markdown",
   "id": "04a8e309",
   "metadata": {},
   "source": [
    "#### Random Forest"
   ]
  },
  {
   "cell_type": "code",
   "execution_count": 66,
   "id": "8e874493",
   "metadata": {},
   "outputs": [],
   "source": [
    "# Define top features for model building \n",
    "\n",
    "top_features_RF = X[['Attr4','Attr5','Attr8','Attr15','Attr23','Attr25','Attr26','Attr28','Attr33','Attr34','Attr38','Attr39','Attr40','Attr41','Attr43', 'Attr45','Attr54','Attr55','Attr57', 'Attr60', 'Attr12', 'Attr21', 'Attr24', 'Attr37']]"
   ]
  },
  {
   "cell_type": "code",
   "execution_count": 154,
   "id": "248f94fa",
   "metadata": {},
   "outputs": [],
   "source": [
    "# Scale X and y for model building \n",
    "\n",
    "from sklearn.preprocessing import RobustScaler\n",
    "\n",
    "\n",
    "y1 = df_model['class']\n",
    "#X1 = df_model.loc[:, df_model.columns!='class']\n",
    "\n",
    "transformer = RobustScaler().fit(top_features_RF)\n",
    "X_1_scaled = transformer.transform(top_features_RF)\n",
    "X_1_scaled\n",
    "\n",
    "\n",
    "\n",
    "X_train, X_test, y_train, y_test = train_test_split(X_1_scaled, y1, test_size=0.20, random_state=42)"
   ]
  },
  {
   "cell_type": "code",
   "execution_count": 143,
   "id": "fca52511",
   "metadata": {},
   "outputs": [
    {
     "name": "stdout",
     "output_type": "stream",
     "text": [
      "1 0.9515608800829397\n",
      "2 0.9515608800829397\n",
      "3 0.9515608800829397\n",
      "4 0.9515608800829397\n",
      "5 0.9515608800829397\n",
      "6 0.9515608800829397\n",
      "7 0.9515608800829397\n",
      "8 0.9518488653380947\n",
      "9 0.9522808432208271\n",
      "10 0.9532599930883539\n",
      "11 0.9558518603847483\n",
      "12 0.9577525630687709\n",
      "13 0.9602580347886188\n",
      "14 0.9645778136159429\n",
      "15 0.970769496601774\n",
      "16 0.9759532311945628\n",
      "17 0.9835848404561687\n",
      "18 0.9873286487731828\n",
      "19 0.9920516069577238\n"
     ]
    }
   ],
   "source": [
    "# Buiilding the random forest model \n",
    "from sklearn.ensemble import RandomForestClassifier as rf\n",
    "\n",
    "for i in range(1,20):\n",
    "\n",
    "    rf_model_scaled = rf(n_estimators = 50, criterion = 'entropy', max_features = 'auto', max_depth = i)\n",
    "\n",
    "    rf_model_scaled.fit(X_train,y_train)\n",
    "\n",
    "    print(i,rf_model_scaled.score(X_train, y_train))"
   ]
  },
  {
   "cell_type": "code",
   "execution_count": 144,
   "id": "28a7c1ac",
   "metadata": {},
   "outputs": [
    {
     "name": "stdout",
     "output_type": "stream",
     "text": [
      "[0.94917207 0.95061195 0.94917207 0.94931605 0.95320374 0.95205184\n",
      " 0.95406767 0.94787617 0.94816415 0.95104392]\n",
      "              precision    recall  f1-score   support\n",
      "\n",
      "           0       0.95      1.00      0.97      8272\n",
      "           1       0.05      0.00      0.00       409\n",
      "\n",
      "    accuracy                           0.95      8681\n",
      "   macro avg       0.50      0.50      0.49      8681\n",
      "weighted avg       0.91      0.95      0.93      8681\n",
      "\n"
     ]
    },
    {
     "data": {
      "text/plain": [
       "<AxesSubplot:>"
      ]
     },
     "execution_count": 144,
     "metadata": {},
     "output_type": "execute_result"
    },
    {
     "data": {
      "image/png": "[encoded data removed]",
      "text/plain": [
       "<Figure size 700x400 with 2 Axes>"
      ]
     },
     "metadata": {},
     "output_type": "display_data"
    }
   ],
   "source": [
    "from sklearn.model_selection import cross_val_score\n",
    "from sklearn.model_selection import ShuffleSplit\n",
    "from sklearn.metrics import classification_report, confusion_matrix\n",
    "\n",
    "rf_model_scaled_final = rf(n_estimators = 50, criterion = 'entropy', max_features = 'auto', max_depth = 15)\n",
    "\n",
    "rf_model_scaled_final.fit(X_train,y_train)\n",
    "\n",
    "cv = ShuffleSplit(n_splits=10, test_size=0.2, random_state=0)\n",
    "print(cross_val_score(rf_model_scaled_final, X_train, y_train, cv = cv, scoring = 'accuracy'))\n",
    "y_pred = rf_model_scaled_final.predict(X_test)\n",
    "plt.figure(figsize=(7,4))\n",
    "print(classification_report(y_test, y_pred))\n",
    "cf_matrix = confusion_matrix(y_test, y_pred)\n",
    "sns.heatmap(cf_matrix, annot=True, fmt='d',cmap=\"Blues\")\n",
    "\n",
    "# https://stats.stackexchange.com/questions/392115/why-is-cross-val-score-substantially-lower-than-score-or-roc-auc-score"
   ]
  },
  {
   "cell_type": "markdown",
   "id": "2d9ccbc9",
   "metadata": {},
   "source": [
    "### XGBoost Model Building"
   ]
  },
  {
   "cell_type": "markdown",
   "id": "1a8d5327",
   "metadata": {},
   "source": [
    "**Define Dataframe and Transform Input Variables**"
   ]
  },
  {
   "cell_type": "code",
   "execution_count": 156,
   "id": "b286e1ce",
   "metadata": {},
   "outputs": [],
   "source": [
    "#Define Top Input Variables for XGBoost\n",
    "\n",
    "xgboost_X = X[['Attr5', 'Attr6', 'Attr13', 'Attr26','Attr27', 'Attr34', 'Attr35', 'Attr39', 'Attr42','Attr44','Attr56','Attr58']]"
   ]
  },
  {
   "cell_type": "code",
   "execution_count": 151,
   "id": "78aa7ae7",
   "metadata": {},
   "outputs": [],
   "source": [
    "# Robust Scale X and y for model building \n",
    "\n",
    "from sklearn.preprocessing import RobustScaler\n",
    "y2 = df_model['class']\n",
    "#X1 = df_model.loc[:, df_model.columns!='class']\n",
    "transformer = RobustScaler().fit(xgboost_X)\n",
    "X_2_scaled = transformer.transform(xgboost_X)\n",
    "X_2_scaled\n",
    "#Split Dataset\n",
    "X_train, X_test, y_train, y_test = train_test_split(X_2_scaled, y2, test_size=0.20, random_state=42)"
   ]
  },
  {
   "cell_type": "markdown",
   "id": "4e09c8e9",
   "metadata": {},
   "source": [
    "#### XGBoost Model Building With Different Hyperparameter Tuned Options "
   ]
  },
  {
   "cell_type": "markdown",
   "id": "25a42834",
   "metadata": {},
   "source": [
    "**Option 1: With Default Tuned Parameters**"
   ]
  },
  {
   "cell_type": "code",
   "execution_count": 114,
   "id": "2fc14b15",
   "metadata": {},
   "outputs": [
    {
     "name": "stdout",
     "output_type": "stream",
     "text": [
      "0.9879334178090082\n"
     ]
    },
    {
     "data": {
      "image/png": "[encoded data removed]",
      "text/plain": [
       "<Figure size 432x288 with 2 Axes>"
      ]
     },
     "metadata": {},
     "output_type": "display_data"
    }
   ],
   "source": [
    "# Model Building with no hyper parameter tuning\n",
    "xg_model = XGBClassifier(verbosity = 0, random_state=42) #default max_depth = 6, subsample = 1, colsample = 1, n_estimtors = 100\n",
    "xg_model.fit(X_train, y_train)\n",
    "print(xg_model.score(X_train, y_train))\n",
    "plot_confusion_matrix(xg_model, X_test, y_test)\n",
    "plt.show()"
   ]
  },
  {
   "cell_type": "markdown",
   "id": "b8714656",
   "metadata": {},
   "source": [
    "**Option 2: Increased Max Depth, Lower Subsample Trees, and Lower n_estimators**"
   ]
  },
  {
   "cell_type": "code",
   "execution_count": 111,
   "id": "cbdc077d",
   "metadata": {},
   "outputs": [
    {
     "name": "stdout",
     "output_type": "stream",
     "text": [
      "0.9879622163345236\n"
     ]
    },
    {
     "data": {
      "image/png": "[encoded data removed]",
      "text/plain": [
       "<Figure size 432x288 with 2 Axes>"
      ]
     },
     "metadata": {},
     "output_type": "display_data"
    }
   ],
   "source": [
    "xg_model_scaled = XGBClassifier(max_depth = 10, subsample = .6, colsample_bytree = .6, n_estimators = 50,objective ='reg:linear', verbosity = 0, random_state=42)\n",
    "xg_model_scaled.fit(X_train, y_train)\n",
    "print(xg_model_scaled.score(X_train, y_train))\n",
    "plot_confusion_matrix(xg_model_scaled, X_test, y_test)\n",
    "plt.show()"
   ]
  },
  {
   "cell_type": "markdown",
   "id": "ce21a118",
   "metadata": {},
   "source": [
    "**Option 3: Lowered Max Depth, Increaseed Subsample, and Increased n_estimators**"
   ]
  },
  {
   "cell_type": "code",
   "execution_count": 119,
   "id": "1a2516d7",
   "metadata": {},
   "outputs": [
    {
     "name": "stdout",
     "output_type": "stream",
     "text": [
      "0.9748876857504896\n"
     ]
    },
    {
     "data": {
      "text/plain": [
       "<sklearn.metrics._plot.confusion_matrix.ConfusionMatrixDisplay at 0x7f9e634f9fa0>"
      ]
     },
     "execution_count": 119,
     "metadata": {},
     "output_type": "execute_result"
    },
    {
     "data": {
      "image/png": "[encoded data removed]",
      "text/plain": [
       "<Figure size 432x288 with 2 Axes>"
      ]
     },
     "metadata": {},
     "output_type": "display_data"
    }
   ],
   "source": [
    "xg_model_scaled = XGBClassifier(max_depth = 4, subsample = .8, colsample_bytree = .7, n_estimators = 150, objective ='reg:linear', verbosity = 0, random_state=42)\n",
    "xg_model_scaled.fit(X_train, y_train)\n",
    "print(xg_model_scaled.score(X_train, y_train))\n",
    "plot_confusion_matrix(xg_model_scaled, X_test, y_test)"
   ]
  },
  {
   "cell_type": "code",
   "execution_count": 157,
   "id": "7147453e",
   "metadata": {},
   "outputs": [
    {
     "name": "stdout",
     "output_type": "stream",
     "text": [
      "0.01 [0.95075594 0.95161987 0.95046796 0.95017999 0.95363571 0.95392369\n",
      " 0.95435565 0.94902808 0.94902808 0.9511879 ]\n",
      "\n",
      "\n",
      "0.1 [0.95032397 0.95075594 0.950036   0.94974802 0.95262779 0.95089993\n",
      " 0.95363571 0.94816415 0.94845212 0.94946004]\n",
      "\n",
      "\n",
      "0.2 [0.94686825 0.94845212 0.94902808 0.94787617 0.950036   0.94917207\n",
      " 0.95046796 0.94514039 0.94758819 0.94902808]\n",
      "\n",
      "\n",
      "0.3 [0.94614831 0.9462923  0.94586033 0.9462923  0.94557235 0.94586033\n",
      " 0.94931605 0.94168467 0.94427646 0.94442045]\n",
      "\n",
      "\n",
      "0.4 [0.93851692 0.94269258 0.93664507 0.93866091 0.94269258 0.94312455\n",
      " 0.94355652 0.93808495 0.94240461 0.93851692]\n",
      "\n",
      "\n",
      "0.7 [0.92742981 0.92886969 0.91965443 0.92339813 0.92771778 0.92598992\n",
      " 0.92483801 0.92311015 0.92685385 0.92570194]\n",
      "\n",
      "\n"
     ]
    }
   ],
   "source": [
    "# Proceeding with Option 2 since it produced better accuracy score. Final step is to cross validate using shuffle split.\n",
    "\n",
    "from sklearn.model_selection import cross_val_score\n",
    "from sklearn.model_selection import ShuffleSplit\n",
    "from sklearn.metrics import classification_report, confusion_matrix\n",
    "\n",
    "xg_model_scaled = XGBClassifier(max_depth = 10, subsample = .6, colsample_bytree = .6, n_estimators = 50,objective ='reg:linear', verbosity = 0, random_state=42)\n",
    "xg_model_scaled.fit(X_train, y_train)\n",
    "for i in [.01, .1, .2, .3, .4,.7]: #.3 is default learning rate\n",
    "    xg_model_scaled.learning_rate = i\n",
    "    cv = ShuffleSplit(n_splits=10, test_size=0.2, random_state=0)\n",
    "    print(i,cross_val_score( xg_model_scaled, X_train, y_train, cv = cv, scoring = 'accuracy'))\n",
    "    y_pred =  xg_model_scaled.predict(X_test)\n",
    "    #plt.figure(figsize=(7,4))\n",
    "    print(1 * \"\\n\")\n",
    "    #print(classification_report(y_test, y_pred))\n",
    "    #print(1 * \"\\n\")\n",
    "    #cf_matrix = confusion_matrix(y_test, y_pred)\n",
    "    #sns.heatmap(cf_matrix, annot=True, fmt='d',cmap=\"Blues\")"
   ]
  },
  {
   "cell_type": "code",
   "execution_count": 163,
   "id": "3c68acdb",
   "metadata": {},
   "outputs": [
    {
     "name": "stdout",
     "output_type": "stream",
     "text": [
      "Model score is:  0.9706831010252275\n",
      "\n",
      "\n",
      "              precision    recall  f1-score   support\n",
      "\n",
      "           0       0.97      1.00      0.98      8272\n",
      "           1       0.97      0.28      0.44       409\n",
      "\n",
      "    accuracy                           0.97      8681\n",
      "   macro avg       0.97      0.64      0.71      8681\n",
      "weighted avg       0.97      0.97      0.96      8681\n",
      "\n"
     ]
    },
    {
     "data": {
      "text/plain": [
       "<AxesSubplot:>"
      ]
     },
     "execution_count": 163,
     "metadata": {},
     "output_type": "execute_result"
    },
    {
     "data": {
      "image/png": "[encoded data removed]",
      "text/plain": [
       "<Figure size 700x400 with 2 Axes>"
      ]
     },
     "metadata": {},
     "output_type": "display_data"
    }
   ],
   "source": [
    "#Create Final Model for XGBoost based on the learning rate performnace from crossvalidation run (previous run):\n",
    "\n",
    "xg_model_scaled_final = XGBClassifier(learning_rate = .01, max_depth = 10, subsample = .6, colsample_bytree = .6, n_estimators = 50,objective ='reg:linear', verbosity = 0, random_state=42)\n",
    "xg_model_scaled_final.fit(X_train, y_train)\n",
    "print('Model score is: ', xg_model_scaled_final.score(X_train, y_train))\n",
    "y_pred =  xg_model_scaled.predict(X_test)\n",
    "plt.figure(figsize=(7,4))\n",
    "print(1 * \"\\n\")\n",
    "print(classification_report(y_test, y_pred))\n",
    "cf_matrix = confusion_matrix(y_test, y_pred)\n",
    "sns.heatmap(cf_matrix, annot=True, fmt='d',cmap=\"Blues\")\n"
   ]
  },
  {
   "cell_type": "markdown",
   "id": "70bcdfba",
   "metadata": {},
   "source": [
    "# Model Interpretation"
   ]
  },
  {
   "cell_type": "markdown",
   "id": "e8fc218d",
   "metadata": {},
   "source": [
    "### Random Forest - Feature Importance"
   ]
  },
  {
   "cell_type": "code",
   "execution_count": 155,
   "id": "47d30aa5",
   "metadata": {},
   "outputs": [
    {
     "name": "stdout",
     "output_type": "stream",
     "text": [
      "[0.03241959 0.04312093 0.03501202 0.04032505 0.04232992 0.04414049\n",
      " 0.0518842  0.03313454 0.03408834 0.04130688 0.04797505 0.05689226\n",
      " 0.04028416 0.05004743 0.03287282 0.03606358 0.03919937 0.04046097\n",
      " 0.0350222  0.03257203 0.03958217 0.03556445 0.0918308  0.02387075]\n"
     ]
    },
    {
     "data": {
      "image/png": "[encoded data removed]",
      "text/plain": [
       "<Figure size 600x400 with 1 Axes>"
      ]
     },
     "metadata": {},
     "output_type": "display_data"
    }
   ],
   "source": [
    "# Split dataset\n",
    "\n",
    "X_train, X_test, y_train, y_test = train_test_split(X_1_scaled, y1, test_size=0.20, random_state=42)\n",
    "\n",
    "# Build Model For Feature Evaluation\n",
    "\n",
    "rf_model_scaled_final = rf(n_estimators = 50, criterion = 'entropy', max_features = 'auto', max_depth = 15)\n",
    "rf_model_scaled_final.fit(X_train,y_train)\n",
    "\n",
    "# feature importance\n",
    "print(rf_model_scaled_final.feature_importances_)\n",
    "\n",
    "# plot\n",
    "pyplot.bar(range(len(rf_model_scaled_final.feature_importances_)), rf_model_scaled_final.feature_importances_)\n",
    "pyplot.show()"
   ]
  },
  {
   "cell_type": "markdown",
   "id": "9b41fe20",
   "metadata": {},
   "source": [
    "These are the top three important features for Random Forest Model:\n",
    "\n",
    "(net profit + depreciation) / total liabilities\n",
    "\n",
    "profit on sales / sales\n",
    "\n",
    "gross profit (in 3 years) / total assets\n",
    "\n",
    "\n",
    "Given this model, `(net profit + depreciation) / total liabilities` is the most important variable followed by `profit on sales / sales` and `gross profit (in 3 years) / total assets`. These features indicate that if a company performes poorly with profitability scores then it may go banktrupt. Third feeature indicates that there is a three year window for chances of failing as a company due to low profit/total asset ratio. These findings can be very important for internal analysts, investment banks, and CFO of the companies. "
   ]
  },
  {
   "cell_type": "markdown",
   "id": "697511a0",
   "metadata": {},
   "source": [
    "### XGBoost - Feature Importance"
   ]
  },
  {
   "cell_type": "code",
   "execution_count": 159,
   "id": "a3fb2c33",
   "metadata": {},
   "outputs": [
    {
     "name": "stdout",
     "output_type": "stream",
     "text": [
      "[0.05302653 0.06644343 0.05538262 0.06667134 0.12554161 0.14155464\n",
      " 0.08514307 0.0783266  0.08080743 0.04213603 0.10924395 0.0957227 ]\n"
     ]
    },
    {
     "data": {
      "image/png": "[encoded data removed]",
      "text/plain": [
       "<Figure size 600x400 with 1 Axes>"
      ]
     },
     "metadata": {},
     "output_type": "display_data"
    }
   ],
   "source": [
    "# plot feature importance manually\n",
    "from numpy import loadtxt\n",
    "from xgboost import XGBClassifier\n",
    "from matplotlib import pyplot\n",
    "\n",
    "#Split Dataframe\n",
    "X_train, X_test, y_train, y_test = train_test_split(X_2_scaled, y2, test_size=0.20, random_state=42)\n",
    "\n",
    "#Build Model For Feature Importance Evaluation\n",
    "\n",
    "xg_model_scaled = XGBClassifier(learning_rate = .01,max_depth = 10, subsample = .6, colsample_bytree = .6, n_estimators = 50,objective ='reg:linear', verbosity = 0, random_state=42)\n",
    "xg_model_scaled.fit(X_train, y_train)\n",
    "\n",
    "# feature importance\n",
    "print(xg_model_scaled.feature_importances_)\n",
    "\n",
    "# plot\n",
    "pyplot.bar(range(len(xg_model_scaled.feature_importances_)), xg_model_scaled.feature_importances_)\n",
    "pyplot.show()"
   ]
  },
  {
   "cell_type": "markdown",
   "id": "d0aa5380",
   "metadata": {},
   "source": [
    "Top featuers for XGBoost Model:\n",
    "\n",
    "\n",
    "1. operating expenses / total liabilities\n",
    "2. [(cash + short-term securities + receivables - short-term liabilities) / (operating expenses - depreciation)] * 365\n",
    "3. sales - cost of products sold) / sales\n",
    "\n",
    "\n",
    "Given this model, `operating expene/ total liablities` is the most important variable followed by `sales - cost of products sold) / sales` and `[(cash + short-term securities + receivables - short-term liabilities) / (operating expenses - depreciation)] * 365`. These features indicate that if a company has poor performance with operation, low on short term assets, and poor performance on gross profit then it will face the risk of bankruptcy. These findings can be very important for internal analysts, investment banks, and CFO of the companies. "
   ]
  },
  {
   "cell_type": "markdown",
   "id": "cba05088",
   "metadata": {},
   "source": [
    "# Conclusion\n",
    "\n",
    "The XGBoost model displays the best performance by tuning to improve the accuracy score. We recommend this model using the following hyperparameters settings:\n",
    "\n",
    "learning_rate = .01\n",
    "\n",
    "max_depth = 10\n",
    "\n",
    "subsample = .6\n",
    "\n",
    "colsample_bytree = .6\n",
    "\n",
    "n_estimators = 50\n",
    "\n",
    "With these hyperparameter settings, the model has produced acccuracy score of 97%. This model provides us a list of important features which can assist a company's finance department, investment banks, and investors in predicting its  chances of going bankrupt. \n"
   ]
  },
  {
   "cell_type": "code",
   "execution_count": null,
   "id": "81ae4520",
   "metadata": {},
   "outputs": [],
   "source": []
  }
 ],
 "metadata": {
  "kernelspec": {
   "display_name": "Python 3 (ipykernel)",
   "language": "python",
   "name": "python3"
  },
  "language_info": {
   "codemirror_mode": {
    "name": "ipython",
    "version": 3
   },
   "file_extension": ".py",
   "mimetype": "text/x-python",
   "name": "python",
   "nbconvert_exporter": "python",
   "pygments_lexer": "ipython3",
   "version": "3.9.7"
  }
 },
 "nbformat": 4,
 "nbformat_minor": 5
}
